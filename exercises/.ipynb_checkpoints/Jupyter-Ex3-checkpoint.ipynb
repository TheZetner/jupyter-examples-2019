{
 "cells": [
  {
   "cell_type": "markdown",
   "metadata": {},
   "source": [
    "# Exercise 3: Markdown\n",
    "### Instructions\n",
    "* Format the following cells to match [_Jupyter-Ex3-Demo.html_](https://gist.github.com/TheZetner/27ecaa4e17d0327097c07d84245d1acd)\n",
    "* (H#) shows header sizes to use\n",
    "* Refer to [this cheatsheet](https://github.com/adam-p/markdown-here/wiki/Markdown-Cheatsheet) for Markdown tags\n",
    "* Select this cell then hit _Enter_ or double click it to see how you can include hidden comments\n",
    "* Open the last cell to see image instructions\n",
    "\n",
    "<!---\n",
    "This is a comment. Further instructions will be included inline via comments\n",
    "-->\n"
   ]
  },
  {
   "cell_type": "code",
   "execution_count": null,
   "metadata": {},
   "outputs": [],
   "source": [
    "# Jupyter and Markdown Exercises (H1)\n",
    "\n",
    "<!---\n",
    "Make this cell Text and merge it with the one below.\n",
    "-->"
   ]
  },
  {
   "cell_type": "markdown",
   "metadata": {},
   "source": [
    "Vocabulary to Know  \n",
    "* **Cells**\n",
    " * Two kinds of containers for text\n",
    " * *Markdown*\n",
    "    * Fancy formatted text\n",
    "    * Running markdown cells formats the text according to the tags within\n",
    " * *Code*  \n",
    "     * Fancy runnable code\n",
    "     * Running code cells sends the commands within to the kernel \n",
    "     * Results are shown by default below the code cell\n",
    "     * Number in brackets indicates the order the cell was executed on the kernel \n",
    "Kernel  \n",
    "The calculation engine that runs code  \n",
    "Make sure yours says Python 3.6 in the upper right  \n",
    "Code cells that are run are termed “inputs” to the kernel (In[])  \n",
    "Modes  \n",
    "Command - navigate between cells, modify them, run them  \n",
    "Edit - edit text within the code and markdown cells  \n",
    "\n",
    "<!---\n",
    "Split this cell below this comment\n",
    "-->\n",
    "\n",
    "<!---\n",
    "Fix the formatting to  match this gist: https://gist.github.com/TheZetner/27ecaa4e17d0327097c07d84245d1acd\n",
    "-->\n",
    "\n",
    "Keyboard Shortcuts - (C)ommand and/or (E)dit\n",
    "* **Up and Down arrows** - navigate between cells (C)  \n",
    "* **Enter** - Enter Edit mode in selected cell - double click a cell to do this as well (C)  \n",
    "* **Ctrl + Enter** - Run Cell (C/E)  \n",
    "* **Shift + Enter** - Run Cell and select next, inserts if last cell in notebook (C/E)  \n",
    "* **Esc** - Escape and return to Command mode (E)  \n",
    "* **A/B** - add cell above / below current (C)  \n",
    "* **DD** - delete current (C)  \n",
    "* **C** - copy current (C)  \n",
    "X - cut current (C)\n",
    "Y - change cell to code (C)\n",
    "M - change cell to markdown (C)\n",
    "Ctrl+Shift+- - Divide cell at cursor position (E)\n",
    "Shift+Arrows - Select multiple cells (C)\n",
    "Shift+M - Merge selected cells: Inherits top cell’s type (C)\n",
    "\n",
    "<!---\n",
    "Line spacing screwed up? Lines must end with double space\n",
    "-->"
   ]
  },
  {
   "cell_type": "markdown",
   "metadata": {},
   "source": [
    "<!---\n",
    "For the image - \n",
    "Use this for the alt-text: Jupyter Logo\n",
    "Use this for the image link: https://upload.wikimedia.org/wikipedia/commons/thumb/3/38/Jupyter_logo.svg/414px-Jupyter_logo.svg.png\n",
    "-->\n",
    "\n",
    "<!---\n",
    "Link to Project Jupyter: https://jupyter.org/\n",
    "-->"
   ]
  }
 ],
 "metadata": {
  "kernelspec": {
   "display_name": "Python 3",
   "language": "python",
   "name": "python3"
  },
  "language_info": {
   "codemirror_mode": {
    "name": "ipython",
    "version": 3
   },
   "file_extension": ".py",
   "mimetype": "text/x-python",
   "name": "python",
   "nbconvert_exporter": "python",
   "pygments_lexer": "ipython3",
   "version": "3.7.3"
  }
 },
 "nbformat": 4,
 "nbformat_minor": 2
}

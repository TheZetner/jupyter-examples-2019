{
 "cells": [
  {
   "cell_type": "markdown",
   "metadata": {},
   "source": [
    "## Create Report Ready Phylogenetic Tree from Newick\n",
    "### Example Notebook\n",
    "\n",
    "#### Summary\n",
    "Using the Bio.Phylo module we will import a phylogenetic tree in Newick format, find the longest branch length, colour it red, output plot using matplotlib. Longest length from root to sample measured in nucleotides substitutions per site.\n",
    "\n",
    "#### Data\n",
    "Example data: \n",
    "*tree.nhx*\n",
    "* Sequenced _Vibrio cholera_ strains from [2010 Haitian outbreak](https://wwwnc.cdc.gov/eid/article/17/11/11-0794_article#tnF1)\n",
    "\n",
    "Modify _TREEFILE_ below to use different set\n",
    "\n",
    "#### Imports and Parameters\n",
    "<!---\n",
    "Note that the parameter included below is what is necessary to be changed in order to run this on other data sets.\n",
    "-->"
   ]
  },
  {
   "cell_type": "markdown",
   "metadata": {},
   "source": [
    "<!---\n",
    "Use !ls data/ to list the files available\n",
    "-->"
   ]
  },
  {
   "cell_type": "code",
   "execution_count": null,
   "metadata": {},
   "outputs": [],
   "source": [
    "# Run this command as a system command in a code cell if necessary: eg. \"no module name Bio\"\n",
    "# !pip install biopython\n"
   ]
  },
  {
   "cell_type": "code",
   "execution_count": null,
   "metadata": {},
   "outputs": [],
   "source": [
    "# Import statements and data\n",
    "from Bio import Phylo\n",
    "from Bio.Phylo.PhyloXML import Phylogeny\n",
    "import matplotlib.pyplot as plt\n",
    "\n",
    "\n",
    "# Parameter for user to change to HCtreefull.nhx\n",
    "# Haiti Cholera outbreak tree from bioinformatics.ca\n",
    "# A newick format phylogenetic tree\n",
    "\n",
    "TREEFILE = \"data/tree.nhx\"\n",
    "\n",
    "\n",
    "\n",
    "\n",
    "# Quick preview of tree\n",
    "# print(\"Preview Newick Tree\\n\")\n",
    "# f = open(TREEFILE, 'r')\n",
    "# f_contents = f.read()\n",
    "# print(f_contents)\n",
    "# f.close()"
   ]
  },
  {
   "cell_type": "code",
   "execution_count": null,
   "metadata": {},
   "outputs": [],
   "source": [
    "# Read in tree\n",
    "tree = Phylo.read(TREEFILE, \"newick\")\n",
    "\n",
    "# Convert to Phyloxml to allow inclusion of tree attributes beyond what Newick can do\n",
    "tree = tree.as_phyloxml()\n",
    "tree = Phylogeny.from_tree(tree)\n",
    "\n",
    "print(\"Number of leaves in tree: \", len(tree.get_terminals()), \"\\n\")\n",
    "# print(tree) # Ugly for anything over the tiniest trees"
   ]
  },
  {
   "cell_type": "code",
   "execution_count": null,
   "metadata": {},
   "outputs": [],
   "source": [
    "# Use biopython functions to run from the leaves to the root find the longest path\n",
    "depths = tree.depths()\n",
    "\n",
    "farthestleaf = sorted(depths, key = depths.get)[-1].name\n",
    "longestpath = depths.get(max(depths, key = depths.get), \"no longest value found\")"
   ]
  },
  {
   "cell_type": "code",
   "execution_count": null,
   "metadata": {},
   "outputs": [],
   "source": [
    "# Colour the tree accordingly: highlight the longest path\n",
    "tree.root.color = \"gray\" \n",
    "longest = tree.common_ancestor({\"name\": farthestleaf})\n",
    "longest.color = \"red\""
   ]
  },
  {
   "cell_type": "code",
   "execution_count": null,
   "metadata": {
    "scrolled": true
   },
   "outputs": [],
   "source": [
    "# This is an example of notebook magics. Something to look up later from the handouts.\n",
    "%matplotlib inline \n",
    "tree.rooted = True\n",
    "\n",
    "# Draw using matplotlib\n",
    "plt.rcParams[\"figure.figsize\"] = (15,15)\n",
    "Phylo.draw(tree)"
   ]
  },
  {
   "cell_type": "code",
   "execution_count": null,
   "metadata": {},
   "outputs": [],
   "source": [
    "# Print out a result\n",
    "print(\"The longest total path from root to leaf is:\", longestpath, \"and the sameple there is:\", farthestleaf)"
   ]
  }
 ],
 "metadata": {
  "_draft": {
   "nbviewer_url": "https://gist.github.com/277e95019dd22ab3602f5e4907a657cd"
  },
  "gist": {
   "data": {
    "description": "Jupyter Exercise 4 - Demo",
    "public": true
   },
   "id": "277e95019dd22ab3602f5e4907a657cd"
  },
  "kernelspec": {
   "display_name": "Python 3",
   "language": "python",
   "name": "python3"
  },
  "language_info": {
   "codemirror_mode": {
    "name": "ipython",
    "version": 3
   },
   "file_extension": ".py",
   "mimetype": "text/x-python",
   "name": "python",
   "nbconvert_exporter": "python",
   "pygments_lexer": "ipython3",
   "version": "3.7.3"
  }
 },
 "nbformat": 4,
 "nbformat_minor": 2
}

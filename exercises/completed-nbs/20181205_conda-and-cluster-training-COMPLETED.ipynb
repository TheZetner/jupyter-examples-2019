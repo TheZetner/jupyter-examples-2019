{
 "cells": [
  {
   "cell_type": "markdown",
   "metadata": {},
   "source": [
    "Cluster Etiquette and Conda Training December 5th, 2018\n",
    "========================================================"
   ]
  },
  {
   "cell_type": "markdown",
   "metadata": {},
   "source": [
    "## I. Jupyter Notebook or What is this thing I'm looking at?\n",
    "\n",
    "This is a [jupyter](http://jupyter.org/) notebook.\n",
    "\n",
    ">The Jupyter Notebook is an open-source web application that allows you to create and share documents that contain live code, equations, visualizations and narrative text. Uses include: data cleaning and transformation, numerical simulation, statistical modeling, data visualization, machine learning, and much more.\n",
    "\n",
    "We're going to use it because it makes combining explanation, examples, and exercises as easy as possible. Code cells directly run bash commands on Waffles and you (by aunthenticating with this site) will have access to all the files you would normally. \n",
    "\n",
    "### Tools\n",
    "Click on the tabs on the left hand side of the notebook to open the following:\n",
    "* Files: Displays the file system \n",
    "* Running: Shows what notebooks and terminals are running\n",
    "* Commands: A compendium of useful commands for jupyter\n",
    "* Cell Tools: For adapting jupyter notebooks to presentations\n",
    "* Tabs: Navigation between open notebooks and terminals\n",
    "  * Also above the active notebook\n",
    "* Contents: Table of Contents with clickable links!\n",
    "\n",
    "### Vocabulary to know\n",
    "* **Cells**\n",
    " * Two kinds of containers for text\n",
    " * *Markdown*\n",
    "    * Fancy formatted text\n",
    "    * Running markdown cells formats the text according to the tags within\n",
    " * *Code*  \n",
    "     * Fancy runnable code\n",
    "     * Running code cells sends the commands within to the kernel \n",
    "     * Results are shown by default below the code cell\n",
    "     * Number in brackets indicates the order the cell was executed on the kernel\n",
    "* **Kernel**\n",
    " * The calculation engine that runs code\n",
    " * Make sure yours says *Bash* in the upper right\n",
    " * Code cells that are run are termed \"inputs\" to the kernel (In[*])\n",
    "* **Modes**\n",
    "    * *Command* - navigate between cells, modify them, run them\n",
    "    * *Edit* - edit text within the code and markdown cells  \n",
    "\n",
    "That's good enough for now. \n",
    "\n",
    "### Commands you'll use\n",
    "* Up and Down arrows - navigate between cells\n",
    "* Enter - Enter *Edit* mode in selected cell (double click a cell to do this as well) \n",
    "* Ctrl + Enter - Run Cell\n",
    "* Shift + Enter - Run Cell and select next\n",
    "* Esc - Escape and return to *Command* mode"
   ]
  },
  {
   "cell_type": "markdown",
   "metadata": {},
   "source": [
    "## II. Housekeeping\n",
    "\n",
    "Let's get started by making a nice folder for today's workshop on your personal drive. If you've done the pre-requisites for this course you may already have one. "
   ]
  },
  {
   "cell_type": "code",
   "execution_count": 1,
   "metadata": {},
   "outputs": [],
   "source": [
    "# Housekeeping Exercise 0.1\n",
    "mkdir 20181205_conda-training\n",
    "cd 20181205_conda-training"
   ]
  },
  {
   "cell_type": "markdown",
   "metadata": {},
   "source": [
    "Open a new terminal to use later:\n",
    "*File->New->Terminal*"
   ]
  },
  {
   "cell_type": "markdown",
   "metadata": {},
   "source": [
    "Run the next code block to copy files off of temporary to your new folder (ctrl+enter with cell selected)"
   ]
  },
  {
   "cell_type": "code",
   "execution_count": 3,
   "metadata": {},
   "outputs": [
    {
     "name": "stdout",
     "output_type": "stream",
     "text": [
      "cli-cheatsheet.pdf  conda-cheatsheet.pdf  jupyter-cheatsheet.pdf  python2.txt\n"
     ]
    }
   ],
   "source": [
    "# Housekeeping Exercise 0.2\n",
    "cp /Drives/W/Temporary/conda-workshop-2018/*.* ./\n",
    "ls"
   ]
  },
  {
   "cell_type": "markdown",
   "metadata": {},
   "source": [
    "## III. Cluster Etiquette\n",
    "### Introduction\n",
    "Remember the tragedy of the commons? The cluster, Waffles 2.0 is our local computing commons. \n",
    "\n",
    ">The tragedy of the commons is a term used in social science to describe a situation in a shared-resource system where individual users acting independently according to their own self-interest behave contrary to the common good of all users by depleting or spoiling that resource through their collective action.\n",
    "\n",
    "Waffles isn't a beautiful pasture for us to despoil, but it is a limited resource that works best when everyone acts for their own interests while respecting the interests of the collective. \n",
    "\n",
    "What that means in practice:\n",
    "1. Use the available job management tools from Slurm\n",
    "2. Use the appropriate resources to those jobs\n"
   ]
  },
  {
   "cell_type": "markdown",
   "metadata": {},
   "source": [
    "### 1. Job Management\n",
    " \n",
    "No *Analysis* on the head node!\n",
    " \n",
    "Must use the Slurm commands ```sbatch``` and ```srun``` as these parcel out jobs to the worker nodes. Watch them run with ```sq``` and review them with ```sacct```.\n",
    "\n",
    "#### **sbatch** submits jobs to run in the background\n",
    "* No user interaction possible \n",
    "* Many jobs can run at once\n",
    "* Numerous options available to the user to customize\n",
    "\n",
    "#### **srun** actively runs jobs\n",
    "* Runs in active terminal\n",
    "* One job per terminal\n",
    "* Not as dependable as ```sbatch```\n",
    "\n",
    "#### **sq** displays running job information\n",
    "* Short for ```squeue```\n",
    "* Shows **all** running jobs\n",
    "* Find your job with ```sq | grep USERNAME```\n",
    "* Watch your job with ```watch \"sq | grep USERNAME\"```\n",
    "  * Quit the watch with CTRL+C\n",
    "\n",
    "#### **sacct** displays finished job information\n",
    "Note that it does not tell you what was submitted in --wrap=\"\" so keep notes!  \n",
    "* ```sacct -j JOBID``` for the basics of  \n",
    "JobID    JobName  Partition    Account  AllocCPUS      State ExitCode\n",
    "\n",
    "* ```sacct -e``` for the available columns\n",
    "* ```sacct -j JOBID --format=\"NCPUS,MaxRSS,CPUTime\"``` \n",
    "  * Use ```--format=\"\"``` to show specific columns\n",
    "\n",
    "\n",
    "We'll focus on ```sbatch``` for submission because the majority of optimization can be done with it."
   ]
  },
  {
   "cell_type": "markdown",
   "metadata": {},
   "source": [
    "#### Basic structure of ```sbatch```\n",
    "\n",
    "```\n",
    "sbatch -p PARTITION -c NCPUs --mem=MEMORY --wrap=\"ACTUAL COMMAND\"\n",
    "```\n",
    "\n",
    "* ```--wrap```: Place the call to your tool in here\n",
    "  * Don't forget to only use single quotes within the double quotes of ```wrap```  \n",
    "\n",
    "\n",
    "* ```--mem```: How much memory does each job need?\n",
    " * Requests RAM resources \n",
    " * Units must be specified along with quantity:\n",
    "  * 1G = 1 Gigabyte\n",
    "  * 1M = 1 Megabyte \n",
    "\n",
    "\n",
    "* ```-c```: The number of cores (aka. CPUs) requested for each job\n",
    "  * Always use 1 core unless your tool specifically allows multi-threading / parallel processes\n",
    "  * If your tool has multithread capability you have to match the number of cores called within ```wrap``` with the number of cpus specified by ```-c```  \n",
    "\n",
    "\n",
    "* ```-p```: The partition to which this job will be submitted. One of: \n",
    "  * OutbreakResponse\n",
    "  * Reference/Surveillance\n",
    "  * NMLResearch\n",
    "  * ExternalResearch\n",
    "\n",
    "Always exports a slurm-JOBID.out file from the job that was completed. That JOBID number is important for any future troubleshooting."
   ]
  },
  {
   "cell_type": "code",
   "execution_count": 1,
   "metadata": {},
   "outputs": [
    {
     "name": "stdout",
     "output_type": "stream",
     "text": [
      "Submitted batch job 2787968\n"
     ]
    }
   ],
   "source": [
    "# Exercise 1.1\n",
    "# Run the following sbatch command\n",
    "sbatch -p NMLResearch -c 1 --mem=1M --wrap=\"echo 'done'\"\n"
   ]
  },
  {
   "cell_type": "code",
   "execution_count": 2,
   "metadata": {},
   "outputs": [
    {
     "name": "stdout",
     "output_type": "stream",
     "text": [
      "done\n"
     ]
    }
   ],
   "source": [
    "# Exercise 1.2\n",
    "# Modify the below command with your job ID and run\n",
    "\n",
    "more slurm-2787968.out"
   ]
  },
  {
   "cell_type": "markdown",
   "metadata": {},
   "source": [
    "#### Timing\n",
    "\n",
    "**Start Times**\n",
    "Assembling 7500 genomes? Don't start it at 0800 because it will blow up Waffles (figuratively) and won't be done before you leave anyhow. Use the ```--begin``` flag to tell your job to start in the evening and be ready for morning!\n",
    ">  --begin=16:00  \n",
    "   --begin=now+1hour  \n",
    "   --begin=2018-12-05T10:30:00  \n",
    "   --begin=midnight  \n",
    "   --begin=fika ( 3 pm)  \n",
    "   --begin=teatime (4 pm)  \n",
    "\n",
    "\n",
    "**Maximum Times**\n",
    "Trying to align 100 E.coli genomes with ClustalW? That's not going to ever finish no matter how many resources you give it. Jobs on Waffles will now have a 24hr default max time. Need longer for your analysis?  \n",
    "```--time``` is on your side.\n",
    "> A time limit of zero requests that no time limit be imposed (don't abuse this)  \n",
    "    Time limits can be given in the following formats:  \n",
    "        --time=days-hours  \n",
    "        --time=days-hours:minutes  \n",
    "        --time=hours:minutes:seconds  \n",
    "        --time=minutes:seconds  \n",
    "        --time=0 - No limit  \n",
    "\n",
    "\n"
   ]
  },
  {
   "cell_type": "code",
   "execution_count": 4,
   "metadata": {},
   "outputs": [
    {
     "name": "stdout",
     "output_type": "stream",
     "text": [
      "Submitted batch job 2787974\n"
     ]
    }
   ],
   "source": [
    "## Exercise 2.1\n",
    "# Run this cell with ctrl+enter then move on to 2.2 while the job completes\n",
    "# Note that it has a time limit of 1 minute\n",
    "\n",
    "sbatch -p NMLResearch -c 1 --mem=1G --time=01:00 --wrap=\"sleep 90; touch test90.out\"\n",
    "\n"
   ]
  },
  {
   "cell_type": "code",
   "execution_count": 1,
   "metadata": {},
   "outputs": [
    {
     "name": "stdout",
     "output_type": "stream",
     "text": [
      "Submitted batch job 2992740\n"
     ]
    }
   ],
   "source": [
    "# Exercise 2.2\n",
    "# Modify the maximum time from the last command so it actually finishes. \n",
    "# Don't forget time has to be given in the form of:\n",
    "# \"minutes\", \"minutes:seconds\", \"hours:minutes:seconds\", \n",
    "# \"days-hours\", \"days-hours:minutes\", or \"days-hours:minutes:seconds\"\n",
    "# Verify that test90.out has been written to your folder\n",
    "# Don't worry about the -o argument for right now\n",
    "\n",
    "sbatch -p NMLResearch -o sleepytest.out -c 1 --mem=1G --time=02:00 --wrap=\"echo 'Starting sleepytest'; sleep 45; echo 'Halfway there...';sleep 45; echo 'Done'; touch test90.out\"\n"
   ]
  },
  {
   "cell_type": "code",
   "execution_count": 2,
   "metadata": {},
   "outputs": [
    {
     "name": "stdout",
     "output_type": "stream",
     "text": [
      "/Drives/K/AZetner/jupyter_notebooks\n"
     ]
    }
   ],
   "source": [
    "pwd"
   ]
  },
  {
   "cell_type": "code",
   "execution_count": null,
   "metadata": {},
   "outputs": [],
   "source": [
    "# Optional Exercise 2.2b\n",
    "# Open a bash terminal (File->New->Terminal)\n",
    "# cd into your course folder and enter the below command\n",
    "# tail -f sleepytest.out\n",
    "# Quit with ctrl+c\n"
   ]
  },
  {
   "cell_type": "code",
   "execution_count": 6,
   "metadata": {},
   "outputs": [
    {
     "name": "stdout",
     "output_type": "stream",
     "text": [
      "Submitted batch job 2788004\n"
     ]
    }
   ],
   "source": [
    "# Exercise 2.3\n",
    "# Modify the below sbatch command to start 1 minute from now\n",
    "\n",
    "sbatch -p NMLResearch -c 1 --mem=1G --begin=now+1minute --wrap=\"touch waitstart.out\""
   ]
  },
  {
   "cell_type": "code",
   "execution_count": 7,
   "metadata": {},
   "outputs": [
    {
     "name": "stdout",
     "output_type": "stream",
     "text": [
      "       JobID    JobName  Partition    Account  AllocCPUS      State ExitCode \n",
      "------------ ---------- ---------- ---------- ---------- ---------- -------- \n",
      "2787974            wrap NMLResear+                     1    TIMEOUT      0:0 \n",
      "2787974.bat+      batch                                1  CANCELLED     0:15 \n",
      "       JobID    JobName  Partition    Account  AllocCPUS      State ExitCode \n",
      "------------ ---------- ---------- ---------- ---------- ---------- -------- \n",
      "2787981            wrap NMLResear+                     1  COMPLETED      0:0 \n",
      "2787981.bat+      batch                                1  COMPLETED      0:0 \n",
      "       JobID    JobName  Partition    Account  AllocCPUS      State ExitCode \n",
      "------------ ---------- ---------- ---------- ---------- ---------- -------- \n",
      "2788004            wrap NMLResear+                     1  COMPLETED      0:0 \n",
      "2788004.bat+      batch                                1  COMPLETED      0:0 \n"
     ]
    }
   ],
   "source": [
    "## Exercise 2.4\n",
    "# Add your job ids to the below sacct command and run this cell\n",
    "\n",
    "# Job from 2.1.\n",
    "sacct -j 2787974\n",
    "\n",
    "# Job from 2.2\n",
    "sacct -j 2787981\n",
    "\n",
    "# Job from 2.3\n",
    "sacct -j 2788004\n",
    "\n",
    "# Note that these can be comma separated too:\n",
    "# sacct -j JOBID1,JOBID2,JOBID3"
   ]
  },
  {
   "cell_type": "markdown",
   "metadata": {},
   "source": [
    "#### Naming Jobs and Outputs\n",
    "\n",
    "**Naming Jobs**\n",
    "\n",
    "Give future you a break: name your jobs and don't have them all named 'wrap' as they are above\n",
    "\n",
    "```--job-name``` or ```-J```\n",
    "\n",
    "This helps to figure out which job is which when running several concurrently.\n",
    "\n",
    "\n",
    "**Naming Outputs**\n",
    "\n",
    "Redirects the standard output into a named file instead of the default of ```slurm-JOBID.out```\n",
    "\n",
    "```--output``` or ```-o```\n",
    "\n",
    "Fancy ways to change the output:\n",
    " * ```%j``` to add the job id\n",
    " * ```%u``` to add the user id\n",
    " * ```%x``` to add the job name\n",
    " \n",
    " eg. ```%u-%x-ID%j.out``` becomes ```azetner-SpadesAssembly-ID######.out```\n"
   ]
  },
  {
   "cell_type": "code",
   "execution_count": 9,
   "metadata": {},
   "outputs": [
    {
     "name": "stdout",
     "output_type": "stream",
     "text": [
      "Submitted batch job 2788007\n",
      "2788007  NMLResear  azetner-Is-Testing-Naming-Jobs                      azetner   RUNNING  0:05        UNLIMITED     1      waffles-b-3       1     1G\n"
     ]
    }
   ],
   "source": [
    "# Exercise 3.1\n",
    "# Edit all parts before running cell\n",
    "# Rename this job with your username and fix the sq command so it shows the status of that job\n",
    "sbatch -p NMLResearch -c 1 --mem=1G -J azetner-Is-Testing-Naming-Jobs --wrap=\"sleep 30\"\n",
    "\n",
    "sleep 5\n",
    "\n",
    "sq | grep azetner\n",
    "# or\n",
    "squeue -u azetner\n",
    "\n",
    "\n"
   ]
  },
  {
   "cell_type": "code",
   "execution_count": 11,
   "metadata": {},
   "outputs": [
    {
     "name": "stdout",
     "output_type": "stream",
     "text": [
      "Submitted batch job 2788023\n",
      "total 952\n",
      "-rwx------. 1 azetner grp_azetner     0 Dec  1 18:47 waitstart.out\n",
      "drwx------. 3 azetner grp_azetner    21 Dec  1 18:35 testing\n",
      "-rwx------. 1 azetner grp_azetner     0 Dec  1 18:45 test90.out\n",
      "drwx------. 2 azetner grp_azetner    45 Nov 29 11:58 sources\n",
      "-rwx---r-x. 1 azetner grp_azetner 11406 Nov  2 16:31 snakemake_basecall_tutorial.ipynb\n",
      "-rwx------. 1 azetner grp_azetner     0 Dec  1 18:50 slurm-2788007.out\n",
      "-rwx------. 1 azetner grp_azetner     0 Dec  1 18:50 slurm-2788006.out\n",
      "-rwx------. 1 azetner grp_azetner     0 Dec  1 18:47 slurm-2788004.out\n",
      "-rwx------. 1 azetner grp_azetner   106 Dec  1 18:44 slurm-2787974.out\n",
      "-rwx------. 1 azetner grp_azetner   106 Dec  1 18:43 slurm-2787971.out\n",
      "-rwx------. 1 azetner grp_azetner     5 Dec  1 18:41 slurm-2787968.out\n",
      "-rwx------. 1 azetner grp_azetner    42 Dec  1 18:45 sleepytest.out\n",
      "-rwx------. 1 azetner grp_azetner  1176 Dec  1 18:09 Screen.ipynb\n",
      "-rwx------. 1 azetner grp_azetner    38 Nov 29 12:00 README.md\n",
      "-rwx------. 1 azetner grp_azetner  3397 Nov 21 11:35 conda-prereqs-2018.ipynb\n",
      "-rwx------. 1 azetner grp_azetner 35594 Dec  1 18:51 conda-etiquette-COMPLETED.ipynb\n",
      "-rwx------. 1 azetner grp_azetner   370 Dec  1 18:52 azetners-file-list.out\n",
      "-rwx------. 1 azetner grp_azetner  4979 Aug 17 10:38 albacore_walkthrough.ipynb\n",
      "-rwx------. 1 azetner grp_azetner 33487 Dec  1 18:51 20181205_conda-and-cluster-training.ipynb\n"
     ]
    }
   ],
   "source": [
    "# Exercise 3.2\n",
    "# Edit all parts before running cell\n",
    "# Choose an appropriate partition on which to run this job\n",
    "# Edit the job output name to include your username instead of mine\n",
    "\n",
    "sbatch -p NMLResearch -c 1 --mem=1G -o azetners-file-list.out --wrap=\"ls\"\n",
    "\n",
    "sleep 10\n",
    "\n",
    "ls -lr\n",
    "\n",
    "# Check to see that your output file has been created\n"
   ]
  },
  {
   "cell_type": "code",
   "execution_count": 13,
   "metadata": {},
   "outputs": [
    {
     "name": "stdout",
     "output_type": "stream",
     "text": [
      "Submitted batch job 2788030\n",
      "2788030  NMLResear  FileNamingTest-azetner                              azetner   RUNNING  0:05        UNLIMITED     1      waffles-b-10      1     1G\n",
      "total 1000\n",
      "-rwx------. 1 azetner grp_azetner     0 Dec  1 18:47 waitstart.out\n",
      "drwx------. 3 azetner grp_azetner    21 Dec  1 18:35 testing\n",
      "-rwx------. 1 azetner grp_azetner     0 Dec  1 18:45 test90.out\n",
      "drwx------. 2 azetner grp_azetner    45 Nov 29 11:58 sources\n",
      "-rwx---r-x. 1 azetner grp_azetner 11406 Nov  2 16:31 snakemake_basecall_tutorial.ipynb\n",
      "-rwx------. 1 azetner grp_azetner     0 Dec  1 18:50 slurm-2788007.out\n",
      "-rwx------. 1 azetner grp_azetner     0 Dec  1 18:50 slurm-2788006.out\n",
      "-rwx------. 1 azetner grp_azetner     0 Dec  1 18:47 slurm-2788004.out\n",
      "-rwx------. 1 azetner grp_azetner   106 Dec  1 18:44 slurm-2787974.out\n",
      "-rwx------. 1 azetner grp_azetner   106 Dec  1 18:43 slurm-2787971.out\n",
      "-rwx------. 1 azetner grp_azetner     5 Dec  1 18:41 slurm-2787968.out\n",
      "-rwx------. 1 azetner grp_azetner    42 Dec  1 18:45 sleepytest.out\n",
      "-rwx------. 1 azetner grp_azetner  1176 Dec  1 18:09 Screen.ipynb\n",
      "-rwx------. 1 azetner grp_azetner    38 Nov 29 12:00 README.md\n",
      "-rwx------. 1 azetner grp_azetner  3397 Nov 21 11:35 conda-prereqs-2018.ipynb\n",
      "-rwx------. 1 azetner grp_azetner 37463 Dec  1 18:54 conda-etiquette-COMPLETED.ipynb\n",
      "-rwx------. 1 azetner grp_azetner   370 Dec  1 18:52 azetners-file-list.out\n",
      "-rwx------. 1 azetner grp_azetner   390 Dec  1 18:55 azetner-2788029.out\n",
      "-rwx------. 1 azetner grp_azetner  4979 Aug 17 10:38 albacore_walkthrough.ipynb\n",
      "-rwx------. 1 azetner grp_azetner 33599 Dec  1 18:55 20181205_conda-and-cluster-training.ipynb\n"
     ]
    }
   ],
   "source": [
    "# Exercise 3.3\n",
    "# Edit all parts before running cell\n",
    "# Choose an appropriate partition on which to run this job\n",
    "# Use one cpu and 1G of memory\n",
    "# Edit the job output name to include your username and the job ID: username-jobid.out\n",
    "# Edit the job name to be FileNamingTest-USERNAME\n",
    "# grep for your username\n",
    "\n",
    "sbatch -p NMLResearch -c 1 --mem=1G -J FileNamingTest-azetner -o %u-%j.out --wrap=\"sleep 30; ls\"\n",
    "sleep 5\n",
    "sq | grep azetner\n",
    "ls -lr"
   ]
  },
  {
   "cell_type": "code",
   "execution_count": 15,
   "metadata": {},
   "outputs": [
    {
     "name": "stdout",
     "output_type": "stream",
     "text": [
      "       JobID    JobName  Partition    Account  AllocCPUS      State ExitCode \n",
      "------------ ---------- ---------- ---------- ---------- ---------- -------- \n",
      "2788030      FileNamin+ NMLResear+                     1  COMPLETED      0:0 \n",
      "2788030.bat+      batch                                1  COMPLETED      0:0 \n"
     ]
    }
   ],
   "source": [
    "# Exercise 3.4\n",
    "# When 3.3 is complete\n",
    "# Use sacct to see how many cpus your job used and what state it is in\n",
    "\n",
    "sacct -j 2788030"
   ]
  },
  {
   "cell_type": "markdown",
   "metadata": {},
   "source": [
    "### 2. Resource Management\n",
    "\n",
    "#### Partitions\n",
    "\n",
    "They are groupings of allocated resources:\n",
    "  * OutbreakResponse\n",
    "  * NMLResearch\n",
    "  * ExternalResearch\n",
    "  * Reference/Surveillance\n",
    "\n",
    "**They are not priorities or queues**  \n",
    "Used to allocate resources based on how much people are doing each of the above types of jobs\n",
    " * Using the correct one for your work will result in more allocated resources to that queue\n",
    "\n",
    "So please use the right one :)\n",
    "\n",
    "\n",
    "#### Determining Required Resources\n",
    "\n",
    "As to not despoil the beautiful pasture of Waffles2.0 we need to use what resources we need and not (too much) more. Remember to only use one core unless your tool specifically calls for more. See ```sbatch``` above.\n",
    "\n",
    "How to do that?\n",
    "\n",
    "**A Primer on Estimating Resources**  \n",
    " 1. Run something for the first time with 1 core and 1G of memory\n",
    " 2. Did it work? Yes? Move on. No? Double the memory and try again.\n",
    " 3. Run ```sacct``` to see how much it actually used for resources\n",
    " 4. Record that and use the given numbers in the future, padded slightly (~5%)\n",
    "\n",
    "**A Good sacct Command**  \n",
    "sacct -j JOBID --format=\"JobID,JobName,Partition,ReqCPUs,ReqMem,AllocCPUs,MaxRSS\"\n",
    " * Identifying details about the job (ID, Name, Partition)\n",
    " * Resources requested and used\n",
    " \n",
    "**A Note on External Resources**\n",
    "Some tools (eg NCBI Entrez Direct) rely on connections to external databases to run.  \n",
    "Those same external databases often limit the number of simultaneous connections from one client.  \n",
    "This can result in all NML requests being blocked when a user submits too many simultaneous connections. \n",
    "\n",
    "To avoid this:  \n",
    " * Batch retrieve from external resources, then use local copies for subsequent jobs\n",
    " * Scale up slowly: one job, then 20, 50, 100, etc... Not 500 to start!\n"
   ]
  },
  {
   "cell_type": "code",
   "execution_count": 16,
   "metadata": {},
   "outputs": [
    {
     "name": "stdout",
     "output_type": "stream",
     "text": [
      "       JobID    JobName  Partition  ReqCPUS     ReqMem  AllocCPUS     MaxRSS \n",
      "------------ ---------- ---------- -------- ---------- ---------- ---------- \n",
      "2788030      FileNamin+ NMLResear+        1        1Gn          1            \n",
      "2788030.bat+      batch                   1        1Gn          1      1.50M \n"
     ]
    }
   ],
   "source": [
    "# Exercise 4.0\n",
    "\n",
    "# Use sacct to see how many resources your earlier (3.3) job used\n",
    "# Add the format argument above to show:\n",
    "# JobID,JobName,Partition,ReqCPUs,ReqMem,AllocCPUs,MaxRSS\n",
    "\n",
    "sacct -j 2788030 --format=\"JobID,JobName,Partition,ReqCPUs,ReqMem,AllocCPUs,MaxRSS\""
   ]
  },
  {
   "cell_type": "markdown",
   "metadata": {},
   "source": [
    "Note that the job you requested 1 gigabyte of memory used nearly 1000x less than that"
   ]
  },
  {
   "cell_type": "code",
   "execution_count": 20,
   "metadata": {},
   "outputs": [
    {
     "name": "stdout",
     "output_type": "stream",
     "text": [
      "(/Drives/P/conda_envs/spades) (/Drives/P/conda_envs/spades) (/Drives/P/conda_envs/spades) (/Drives/P/conda_envs/spades) (/Drives/P/conda_envs/spades) (/Drives/P/conda_envs/spades) (/Drives/P/conda_envs/spades) (/Drives/P/conda_envs/spades) (/Drives/P/conda_envs/spades) Submitted batch job 2788076\n",
      "(/Drives/P/conda_envs/spades) (/Drives/P/conda_envs/spades) (/Drives/P/conda_envs/spades) (/Drives/P/conda_envs/spades) "
     ]
    },
    {
     "ename": "",
     "evalue": "1",
     "execution_count": 20,
     "output_type": "error",
     "traceback": []
    }
   ],
   "source": [
    "# Exercise 5.1a: Set Up\n",
    "# We're going to look at troubleshooting failing jobs...\n",
    "# Run the following cell. It's going to do the following:\n",
    "\n",
    "# Activate a conda environment containing SPAdes\n",
    "source activate spades\n",
    "\n",
    "# Submit a job: in this case, a test run for spades\n",
    "# For testing purposes, SPAdes comes with a toy data set (reads that align to first 1000 bp of E. coli)\n",
    "sbatch -p NMLResearch -c 1 -o EXspades.out --mem 48M --wrap=\"spades.py --test\"\n",
    "\n",
    "# Wait a bit...\n",
    "sleep 90"
   ]
  },
  {
   "cell_type": "markdown",
   "metadata": {},
   "source": [
    "Note that Jupyter does some strange things with conda output and will sometimes repeat the environment name in the code cell output. Nothing to worry about"
   ]
  },
  {
   "cell_type": "code",
   "execution_count": 21,
   "metadata": {},
   "outputs": [
    {
     "name": "stdout",
     "output_type": "stream",
     "text": [
      "(/Drives/P/conda_envs/spades) (/Drives/P/conda_envs/spades) (/Drives/P/conda_envs/spades)   0:00:24.354    64M / 8G    INFO   StageManager             (stage.cpp                 : 126)   STAGE == Gap Closer\n",
      "  0:00:24.354    64M / 8G    INFO    General                 (graph_pack.hpp            :  99)   Index refill\n",
      "  0:00:24.357    64M / 8G    INFO   K-mer Index Building     (kmer_index_builder.hpp    : 289)   Building kmer index\n",
      "  0:00:24.357    64M / 8G    INFO    General                 (kmer_index_builder.hpp    : 106)   Splitting kmer instances into 256 buckets using 16 threads. This might take a while.\n",
      "  0:00:24.357    64M / 8G    INFO    General                 (file_limit.hpp            :  32)   Open file limit set to 1024\n",
      "  0:00:24.357    64M / 8G    INFO    General                 (kmer_splitters.hpp        :  74)   Memory available for splitting buffers: 1.29036 Gb\n",
      "  0:00:24.357    64M / 8G    INFO    General                 (kmer_splitters.hpp        :  82)   Using cell size of 131072\n",
      "slurmstepd: error: Job 2788076 exceeded memory limit (77528 > 49152), being killed\n",
      "slurmstepd: error: *** JOB 2788076 ON waffles-b-9 CANCELLED AT 2018-12-02T01:07:45 ***\n",
      "slurmstepd: error: Exceeded job memory limit\n",
      "(/Drives/P/conda_envs/spades) "
     ]
    },
    {
     "ename": "",
     "evalue": "1",
     "execution_count": 21,
     "output_type": "error",
     "traceback": []
    }
   ],
   "source": [
    "# Exercise 5.1b: \n",
    "# Display the tail end of the output\n",
    "# If it's not done you may have to re-run this cell\n",
    "tail EXspades.out"
   ]
  },
  {
   "cell_type": "code",
   "execution_count": 22,
   "metadata": {},
   "outputs": [
    {
     "name": "stdout",
     "output_type": "stream",
     "text": [
      "(/Drives/P/conda_envs/spades) (/Drives/P/conda_envs/spades) (/Drives/P/conda_envs/spades) (/Drives/P/conda_envs/spades) (/Drives/P/conda_envs/spades) (/Drives/P/conda_envs/spades) Submitted batch job 2788092\n",
      "(/Drives/P/conda_envs/spades) (/Drives/P/conda_envs/spades) (/Drives/P/conda_envs/spades) (/Drives/P/conda_envs/spades) (/Drives/P/conda_envs/spades) (/Drives/P/conda_envs/spades) (/Drives/P/conda_envs/spades)  * Paths in the assembly graph corresponding to the contigs are in /Drives/K/AZetner/jupyter_notebooks/spades_test/contigs.paths\n",
      " * Paths in the assembly graph corresponding to the scaffolds are in /Drives/K/AZetner/jupyter_notebooks/spades_test/scaffolds.paths\n",
      "\n",
      "======= SPAdes pipeline finished.\n",
      "\n",
      "========= TEST PASSED CORRECTLY.\n",
      "\n",
      "SPAdes log can be found here: /Drives/K/AZetner/jupyter_notebooks/spades_test/spades.log\n",
      "\n",
      "Thank you for using SPAdes!\n",
      "(/Drives/P/conda_envs/spades) "
     ]
    },
    {
     "ename": "",
     "evalue": "1",
     "execution_count": 22,
     "output_type": "error",
     "traceback": []
    }
   ],
   "source": [
    "# Exercise 5.2: Your turn\n",
    "# Look at the output above, specifically the last 3 lines\n",
    "# Why did the job fail?\n",
    "# How much memory did it require?\n",
    "# Rewrite the above sbatch command with more memory\n",
    "\n",
    "sbatch -p NMLResearch -c 1 -o EXspades.out --mem 96M --wrap=\"spades.py --test\"\n",
    "\n",
    "sleep 120\n",
    "# While it sleeps why not hop over to your terminal and use\n",
    "# tail -f EXspades.out to watch if run\n",
    "# or use your knowledge of sq | grep to watch your job\n",
    "\n",
    "tail EXspades.out\n"
   ]
  },
  {
   "cell_type": "markdown",
   "metadata": {},
   "source": [
    "## IV. Conda\n",
    "### 1. Re-introduction to Conda\n",
    "\n",
    "#### What Conda Does\n",
    "* Package and environment manager\n",
    "* Simplifies installation and management of software packages\n",
    "* Silos those installations into non-overlapping environments\n",
    "\n",
    "#### Why Use Conda\n",
    "* Tool dependencies are handled in their respective environments, preventing incompatibilities and simplifying installation\n",
    "* Users can test software without waiting for support\n",
    "\n",
    "#### How to use Conda? \n",
    "* The whole next section\n",
    "* Will be focused on using Conda on Waffles\n",
    "* Use proper cluster etiquette throughout\n",
    "\n"
   ]
  },
  {
   "cell_type": "markdown",
   "metadata": {},
   "source": [
    "### 2. Managing Environments\n",
    "#### List Existing Environments\n",
    "```conda env list```\n",
    "\n",
    "* Can be run on the head node (no sbatch/srun needed)\n",
    "* Active environment identified with ```*```\n",
    "* \\[Environment Name\\] \\[Filesystem Location\\]\n",
    "* Base and all environments on the P drive are not editable\n",
    "* All environments you create are available for editing\n"
   ]
  },
  {
   "cell_type": "code",
   "execution_count": 23,
   "metadata": {},
   "outputs": [
    {
     "name": "stdout",
     "output_type": "stream",
     "text": [
      "(/Drives/P/conda_envs/spades) (/Drives/P/conda_envs/spades) (/Drives/P/conda_envs/spades) (/Drives/P/conda_envs/spades) # conda environments:\n",
      "#\n",
      "albacore                 /Drives/P/conda_envs/albacore\n",
      "albacore-2.2.7           /Drives/P/conda_envs/albacore-2.2.7\n",
      "albacore-2.3.0           /Drives/P/conda_envs/albacore-2.3.0\n",
      "albacore-2.3.3           /Drives/P/conda_envs/albacore-2.3.3\n",
      "albacore-dev             /Drives/P/conda_envs/albacore-dev\n",
      "beast-2.4.5              /Drives/P/conda_envs/beast-2.4.5\n",
      "beast-2.5.0              /Drives/P/conda_envs/beast-2.5.0\n",
      "bioperl                  /Drives/P/conda_envs/bioperl\n",
      "blast_plus_2.7.1         /Drives/P/conda_envs/blast_plus_2.7.1\n",
      "bowtie2                  /Drives/P/conda_envs/bowtie2\n",
      "bracken-1.0              /Drives/P/conda_envs/bracken-1.0\n",
      "cdc_nomenclature         /Drives/P/conda_envs/cdc_nomenclature\n",
      "circlator                /Drives/P/conda_envs/circlator\n",
      "ectyper-0.5.4            /Drives/P/conda_envs/ectyper-0.5.4\n",
      "graphlan                 /Drives/P/conda_envs/graphlan\n",
      "groot                    /Drives/P/conda_envs/groot\n",
      "hclust2                  /Drives/P/conda_envs/hclust2\n",
      "humann2-0.11.1           /Drives/P/conda_envs/humann2-0.11.1\n",
      "illumina                 /Drives/P/conda_envs/illumina\n",
      "irida-scripts            /Drives/P/conda_envs/irida-scripts\n",
      "kaiju-1.6.2              /Drives/P/conda_envs/kaiju-1.6.2\n",
      "kaiju_v1.6.3             /Drives/P/conda_envs/kaiju_v1.6.3\n",
      "khmer                    /Drives/P/conda_envs/khmer\n",
      "mash                     /Drives/P/conda_envs/mash\n",
      "maxbin2                  /Drives/P/conda_envs/maxbin2\n",
      "mecat                    /Drives/P/conda_envs/mecat\n",
      "metaWRAP-1.0.2           /Drives/P/conda_envs/metaWRAP-1.0.2\n",
      "metabat2                 /Drives/P/conda_envs/metabat2\n",
      "metacherchant-0.1.0      /Drives/P/conda_envs/metacherchant-0.1.0\n",
      "metaphlan2               /Drives/P/conda_envs/metaphlan2\n",
      "mothur-1.39.5            /Drives/P/conda_envs/mothur-1.39.5\n",
      "mothur_14.0.5            /Drives/P/conda_envs/mothur_14.0.5\n",
      "mummer-3.23              /Drives/P/conda_envs/mummer-3.23\n",
      "nanopore                 /Drives/P/conda_envs/nanopore\n",
      "nanopore_unicycler       /Drives/P/conda_envs/nanopore_unicycler\n",
      "nanopore_unicycler_racon     /Drives/P/conda_envs/nanopore_unicycler_racon\n",
      "neptune                  /Drives/P/conda_envs/neptune\n",
      "panphlan                 /Drives/P/conda_envs/panphlan\n",
      "parse_amr_output         /Drives/P/conda_envs/parse_amr_output\n",
      "plasflow                 /Drives/P/conda_envs/plasflow\n",
      "porechop                 /Drives/P/conda_envs/porechop\n",
      "prodigal_v2.6.3          /Drives/P/conda_envs/prodigal_v2.6.3\n",
      "prokka_v1.13.3           /Drives/P/conda_envs/prokka_v1.13.3\n",
      "proteomics               /Drives/P/conda_envs/proteomics\n",
      "quast                    /Drives/P/conda_envs/quast\n",
      "samtools_v1.9            /Drives/P/conda_envs/samtools_v1.9\n",
      "sourmash_2.0.0a6         /Drives/P/conda_envs/sourmash_2.0.0a6\n",
      "spades                *  /Drives/P/conda_envs/spades\n",
      "spider22                 /Drives/P/conda_envs/spider22\n",
      "spider24                 /Drives/P/conda_envs/spider24\n",
      "spingo_v13               /Drives/P/conda_envs/spingo_v13\n",
      "sra-tools                /Drives/P/conda_envs/sra-tools\n",
      "stamp                    /Drives/P/conda_envs/stamp\n",
      "staramr                  /Drives/P/conda_envs/staramr\n",
      "strainphlan              /Drives/P/conda_envs/strainphlan\n",
      "test_crumpit             /Drives/P/conda_envs/test_crumpit\n",
      "unicycler-0.4.7          /Drives/P/conda_envs/unicycler-0.4.7\n",
      "KAT                      /home/CSCScience.ca/AZetner/.conda/envs/KAT\n",
      "SRST2                    /home/CSCScience.ca/AZetner/.conda/envs/SRST2\n",
      "Utils                    /home/CSCScience.ca/AZetner/.conda/envs/Utils\n",
      "Utils-2                  /home/CSCScience.ca/AZetner/.conda/envs/Utils-2\n",
      "art                      /home/CSCScience.ca/AZetner/.conda/envs/art\n",
      "bbmap-38.06              /home/CSCScience.ca/AZetner/.conda/envs/bbmap-38.06\n",
      "bioperl-AZ               /home/CSCScience.ca/AZetner/.conda/envs/bioperl-AZ\n",
      "clustalo                 /home/CSCScience.ca/AZetner/.conda/envs/clustalo\n",
      "clustalw                 /home/CSCScience.ca/AZetner/.conda/envs/clustalw\n",
      "fastQC-0.11.7            /home/CSCScience.ca/AZetner/.conda/envs/fastQC-0.11.7\n",
      "pctest                   /home/CSCScience.ca/AZetner/.conda/envs/pctest\n",
      "pneumocat-v1.2           /home/CSCScience.ca/AZetner/.conda/envs/pneumocat-v1.2\n",
      "porechop-v0.23           /home/CSCScience.ca/AZetner/.conda/envs/porechop-v0.23\n",
      "python2.7                /home/CSCScience.ca/AZetner/.conda/envs/python2.7\n",
      "samtools                 /home/CSCScience.ca/AZetner/.conda/envs/samtools\n",
      "testenv-adrian           /home/CSCScience.ca/AZetner/.conda/envs/testenv-adrian\n",
      "testenv-zetner           /home/CSCScience.ca/AZetner/.conda/envs/testenv-zetner\n",
      "testenv2-adrian          /home/CSCScience.ca/AZetner/.conda/envs/testenv2-adrian\n",
      "base                     /opt/miniconda3\n",
      "irida-api-scripts        /opt/miniconda3/envs/irida-api-scripts\n",
      "irida-sistr              /opt/miniconda3/envs/irida-sistr\n",
      "irida-sistr-results      /opt/miniconda3/envs/irida-sistr-results\n",
      "jupyterhub               /opt/miniconda3/envs/jupyterhub\n",
      "mentalist@0.2.0          /opt/miniconda3/envs/mentalist@0.2.0\n",
      "py3k                     /opt/miniconda3/envs/py3k\n",
      "r                        /opt/miniconda3/envs/r\n",
      "\n",
      "(/Drives/P/conda_envs/spades) "
     ]
    },
    {
     "ename": "",
     "evalue": "1",
     "execution_count": 23,
     "output_type": "error",
     "traceback": []
    }
   ],
   "source": [
    "# Example\n",
    "\n",
    "# List the environments\n",
    "\n",
    "conda env list"
   ]
  },
  {
   "cell_type": "markdown",
   "metadata": {},
   "source": [
    "#### Activate Existing Environments\n",
    "```source activate ENVNAME```\n",
    "\n",
    "* Can be run on the head node (no sbatch/srun needed)\n",
    "* All software in the environment is now available for the user\n",
    "* Packages install to the active environment\n",
    "* Waffles terminal prompt becomes:  \n",
    "```(ENVIRONMENT) [USER@waffles DIRECTORY]```\\$"
   ]
  },
  {
   "cell_type": "code",
   "execution_count": 24,
   "metadata": {},
   "outputs": [
    {
     "name": "stdout",
     "output_type": "stream",
     "text": [
      "(/Drives/P/conda_envs/spades) (/Drives/P/conda_envs/spades) # conda environments:\n",
      "#\n",
      "albacore                 /Drives/P/conda_envs/albacore\n",
      "albacore-2.2.7           /Drives/P/conda_envs/albacore-2.2.7\n",
      "albacore-2.3.0           /Drives/P/conda_envs/albacore-2.3.0\n",
      "albacore-2.3.3           /Drives/P/conda_envs/albacore-2.3.3\n",
      "albacore-dev             /Drives/P/conda_envs/albacore-dev\n",
      "beast-2.4.5              /Drives/P/conda_envs/beast-2.4.5\n",
      "beast-2.5.0              /Drives/P/conda_envs/beast-2.5.0\n",
      "bioperl                  /Drives/P/conda_envs/bioperl\n",
      "blast_plus_2.7.1         /Drives/P/conda_envs/blast_plus_2.7.1\n",
      "bowtie2                  /Drives/P/conda_envs/bowtie2\n",
      "bracken-1.0              /Drives/P/conda_envs/bracken-1.0\n",
      "cdc_nomenclature         /Drives/P/conda_envs/cdc_nomenclature\n",
      "circlator                /Drives/P/conda_envs/circlator\n",
      "ectyper-0.5.4            /Drives/P/conda_envs/ectyper-0.5.4\n",
      "graphlan                 /Drives/P/conda_envs/graphlan\n",
      "groot                    /Drives/P/conda_envs/groot\n",
      "hclust2                  /Drives/P/conda_envs/hclust2\n",
      "humann2-0.11.1           /Drives/P/conda_envs/humann2-0.11.1\n",
      "illumina                 /Drives/P/conda_envs/illumina\n",
      "irida-scripts            /Drives/P/conda_envs/irida-scripts\n",
      "kaiju-1.6.2              /Drives/P/conda_envs/kaiju-1.6.2\n",
      "kaiju_v1.6.3             /Drives/P/conda_envs/kaiju_v1.6.3\n",
      "khmer                    /Drives/P/conda_envs/khmer\n",
      "mash                     /Drives/P/conda_envs/mash\n",
      "maxbin2                  /Drives/P/conda_envs/maxbin2\n",
      "mecat                    /Drives/P/conda_envs/mecat\n",
      "metaWRAP-1.0.2           /Drives/P/conda_envs/metaWRAP-1.0.2\n",
      "metabat2                 /Drives/P/conda_envs/metabat2\n",
      "metacherchant-0.1.0      /Drives/P/conda_envs/metacherchant-0.1.0\n",
      "metaphlan2               /Drives/P/conda_envs/metaphlan2\n",
      "mothur-1.39.5            /Drives/P/conda_envs/mothur-1.39.5\n",
      "mothur_14.0.5            /Drives/P/conda_envs/mothur_14.0.5\n",
      "mummer-3.23              /Drives/P/conda_envs/mummer-3.23\n",
      "nanopore                 /Drives/P/conda_envs/nanopore\n",
      "nanopore_unicycler       /Drives/P/conda_envs/nanopore_unicycler\n",
      "nanopore_unicycler_racon     /Drives/P/conda_envs/nanopore_unicycler_racon\n",
      "neptune                  /Drives/P/conda_envs/neptune\n",
      "panphlan                 /Drives/P/conda_envs/panphlan\n",
      "parse_amr_output         /Drives/P/conda_envs/parse_amr_output\n",
      "plasflow                 /Drives/P/conda_envs/plasflow\n",
      "porechop                 /Drives/P/conda_envs/porechop\n",
      "prodigal_v2.6.3          /Drives/P/conda_envs/prodigal_v2.6.3\n",
      "prokka_v1.13.3           /Drives/P/conda_envs/prokka_v1.13.3\n",
      "proteomics               /Drives/P/conda_envs/proteomics\n",
      "quast                    /Drives/P/conda_envs/quast\n",
      "samtools_v1.9            /Drives/P/conda_envs/samtools_v1.9\n",
      "sourmash_2.0.0a6         /Drives/P/conda_envs/sourmash_2.0.0a6\n",
      "spades                *  /Drives/P/conda_envs/spades\n",
      "spider22                 /Drives/P/conda_envs/spider22\n",
      "spider24                 /Drives/P/conda_envs/spider24\n",
      "spingo_v13               /Drives/P/conda_envs/spingo_v13\n",
      "sra-tools                /Drives/P/conda_envs/sra-tools\n",
      "stamp                    /Drives/P/conda_envs/stamp\n",
      "staramr                  /Drives/P/conda_envs/staramr\n",
      "strainphlan              /Drives/P/conda_envs/strainphlan\n",
      "test_crumpit             /Drives/P/conda_envs/test_crumpit\n",
      "unicycler-0.4.7          /Drives/P/conda_envs/unicycler-0.4.7\n",
      "KAT                      /home/CSCScience.ca/AZetner/.conda/envs/KAT\n",
      "SRST2                    /home/CSCScience.ca/AZetner/.conda/envs/SRST2\n",
      "Utils                    /home/CSCScience.ca/AZetner/.conda/envs/Utils\n",
      "Utils-2                  /home/CSCScience.ca/AZetner/.conda/envs/Utils-2\n",
      "art                      /home/CSCScience.ca/AZetner/.conda/envs/art\n",
      "bbmap-38.06              /home/CSCScience.ca/AZetner/.conda/envs/bbmap-38.06\n",
      "bioperl-AZ               /home/CSCScience.ca/AZetner/.conda/envs/bioperl-AZ\n",
      "clustalo                 /home/CSCScience.ca/AZetner/.conda/envs/clustalo\n",
      "clustalw                 /home/CSCScience.ca/AZetner/.conda/envs/clustalw\n",
      "fastQC-0.11.7            /home/CSCScience.ca/AZetner/.conda/envs/fastQC-0.11.7\n",
      "pctest                   /home/CSCScience.ca/AZetner/.conda/envs/pctest\n",
      "pneumocat-v1.2           /home/CSCScience.ca/AZetner/.conda/envs/pneumocat-v1.2\n",
      "porechop-v0.23           /home/CSCScience.ca/AZetner/.conda/envs/porechop-v0.23\n",
      "python2.7                /home/CSCScience.ca/AZetner/.conda/envs/python2.7\n",
      "samtools                 /home/CSCScience.ca/AZetner/.conda/envs/samtools\n",
      "testenv-adrian           /home/CSCScience.ca/AZetner/.conda/envs/testenv-adrian\n",
      "testenv-zetner           /home/CSCScience.ca/AZetner/.conda/envs/testenv-zetner\n",
      "testenv2-adrian          /home/CSCScience.ca/AZetner/.conda/envs/testenv2-adrian\n",
      "base                     /opt/miniconda3\n",
      "irida-api-scripts        /opt/miniconda3/envs/irida-api-scripts\n",
      "irida-sistr              /opt/miniconda3/envs/irida-sistr\n",
      "irida-sistr-results      /opt/miniconda3/envs/irida-sistr-results\n",
      "jupyterhub               /opt/miniconda3/envs/jupyterhub\n",
      "mentalist@0.2.0          /opt/miniconda3/envs/mentalist@0.2.0\n",
      "py3k                     /opt/miniconda3/envs/py3k\n",
      "r                        /opt/miniconda3/envs/r\n",
      "\n",
      "(/Drives/P/conda_envs/spades) "
     ]
    },
    {
     "ename": "",
     "evalue": "1",
     "execution_count": 24,
     "output_type": "error",
     "traceback": []
    }
   ],
   "source": [
    "# Exercise 6\n",
    "# List the environments as above\n",
    "conda env list"
   ]
  },
  {
   "cell_type": "code",
   "execution_count": 1,
   "metadata": {},
   "outputs": [
    {
     "name": "stdout",
     "output_type": "stream",
     "text": [
      "\n",
      "     active environment : None\n",
      "       user config file : /home/CSCScience.ca/AZetner/.condarc\n",
      " populated config files : /opt/miniconda3/.condarc\n",
      "          conda version : 4.5.11\n",
      "    conda-build version : not installed\n",
      "         python version : 3.6.2.final.0\n",
      "       base environment : /opt/miniconda3  (read only)\n",
      "           channel URLs : https://conda.anaconda.org/conda-forge/linux-64\n",
      "                          https://conda.anaconda.org/conda-forge/noarch\n",
      "                          https://conda.anaconda.org/bioconda/linux-64\n",
      "                          https://conda.anaconda.org/bioconda/noarch\n",
      "                          https://repo.anaconda.com/pkgs/main/linux-64\n",
      "                          https://repo.anaconda.com/pkgs/main/noarch\n",
      "                          https://repo.anaconda.com/pkgs/free/linux-64\n",
      "                          https://repo.anaconda.com/pkgs/free/noarch\n",
      "                          https://repo.anaconda.com/pkgs/r/linux-64\n",
      "                          https://repo.anaconda.com/pkgs/r/noarch\n",
      "                          https://repo.anaconda.com/pkgs/pro/linux-64\n",
      "                          https://repo.anaconda.com/pkgs/pro/noarch\n",
      "          package cache : /opt/miniconda3/pkgs\n",
      "                          /home/CSCScience.ca/AZetner/.conda/pkgs\n",
      "       envs directories : /home/CSCScience.ca/AZetner/.conda/envs\n",
      "                          /Drives/P/conda_envs\n",
      "                          /Drives/X/public/conda_envs\n",
      "                          /opt/miniconda3/envs\n",
      "               platform : linux-64\n",
      "             user-agent : conda/4.5.11 requests/2.18.4 CPython/3.6.2 Linux/3.10.0-957.1.3.el7.x86_64 centos/7 glibc/2.17\n",
      "                UID:GID : 100823:100823\n",
      "             netrc file : None\n",
      "           offline mode : False\n",
      "\n"
     ]
    }
   ],
   "source": [
    "# Exercise 7.1\n",
    "# What environment are you currently in?\n"
   ]
  },
  {
   "cell_type": "code",
   "execution_count": 2,
   "metadata": {},
   "outputs": [
    {
     "name": "stdout",
     "output_type": "stream",
     "text": [
      "(samtools) "
     ]
    },
    {
     "ename": "",
     "evalue": "1",
     "execution_count": 2,
     "output_type": "error",
     "traceback": []
    }
   ],
   "source": [
    "# Activate the environment samtools with source activate\n",
    "source activate samtools"
   ]
  },
  {
   "cell_type": "markdown",
   "metadata": {},
   "source": [
    "#### Show Information About Current Environment\n",
    "```conda info```\n",
    "\n",
    "* Can be run on the head node (no sbatch/srun needed)\n",
    "* Shell level: are you in a nested environment? 0 if base, 1 if not, 2 if so.\n",
    "* Config file locations\n",
    "* Environment locations\n",
    "* Other information\n",
    "\n",
    "```conda list```\n",
    "\n",
    "* Can be run on the head node (no sbatch/srun needed)\n",
    "* Shows what packages are installed and from what channel\n",
    "* Add the ```--revisions``` flag to show installed updates\n",
    "  * Updates to the environment are saved as \"revisions\" \n",
    "  * Includes any new installs etc...\n"
   ]
  },
  {
   "cell_type": "code",
   "execution_count": 3,
   "metadata": {},
   "outputs": [
    {
     "name": "stdout",
     "output_type": "stream",
     "text": [
      "(samtools) (samtools) (samtools) (samtools) \n",
      "     active environment : samtools\n",
      "    active env location : /home/CSCScience.ca/AZetner/.conda/envs/samtools\n",
      "            shell level : 1\n",
      "       user config file : /home/CSCScience.ca/AZetner/.condarc\n",
      " populated config files : /opt/miniconda3/.condarc\n",
      "          conda version : 4.5.11\n",
      "    conda-build version : not installed\n",
      "         python version : 3.6.2.final.0\n",
      "       base environment : /opt/miniconda3  (read only)\n",
      "           channel URLs : https://conda.anaconda.org/conda-forge/linux-64\n",
      "                          https://conda.anaconda.org/conda-forge/noarch\n",
      "                          https://conda.anaconda.org/bioconda/linux-64\n",
      "                          https://conda.anaconda.org/bioconda/noarch\n",
      "                          https://repo.anaconda.com/pkgs/main/linux-64\n",
      "                          https://repo.anaconda.com/pkgs/main/noarch\n",
      "                          https://repo.anaconda.com/pkgs/free/linux-64\n",
      "                          https://repo.anaconda.com/pkgs/free/noarch\n",
      "                          https://repo.anaconda.com/pkgs/r/linux-64\n",
      "                          https://repo.anaconda.com/pkgs/r/noarch\n",
      "                          https://repo.anaconda.com/pkgs/pro/linux-64\n",
      "                          https://repo.anaconda.com/pkgs/pro/noarch\n",
      "          package cache : /opt/miniconda3/pkgs\n",
      "                          /home/CSCScience.ca/AZetner/.conda/pkgs\n",
      "       envs directories : /home/CSCScience.ca/AZetner/.conda/envs\n",
      "                          /Drives/P/conda_envs\n",
      "                          /Drives/X/public/conda_envs\n",
      "                          /opt/miniconda3/envs\n",
      "               platform : linux-64\n",
      "             user-agent : conda/4.5.11 requests/2.18.4 CPython/3.6.2 Linux/3.10.0-957.1.3.el7.x86_64 centos/7 glibc/2.17\n",
      "                UID:GID : 100823:100823\n",
      "             netrc file : None\n",
      "           offline mode : False\n",
      "\n",
      "(samtools) "
     ]
    },
    {
     "ename": "",
     "evalue": "1",
     "execution_count": 3,
     "output_type": "error",
     "traceback": []
    }
   ],
   "source": [
    "# Exercise 8.1\n",
    "# Show the environment information using conda info\n",
    "# Find out what shell level are we in?\n",
    "# Find out where the current environments are located\n",
    "conda info"
   ]
  },
  {
   "cell_type": "code",
   "execution_count": 29,
   "metadata": {},
   "outputs": [
    {
     "name": "stdout",
     "output_type": "stream",
     "text": [
      "(base) (base) (base) (base) 2018-07-24 10:03:38  (rev 0)\n",
      "    +asn1crypto-0.22.0\n",
      "    +ca-certificates-2017.08.26\n",
      "    +certifi-2017.7.27.1\n",
      "    +cffi-1.10.0\n",
      "    +chardet-3.0.4\n",
      "    +conda-4.3.27\n",
      "    +conda-env-2.6.0\n",
      "    +cryptography-2.0.3\n",
      "    +idna-2.6\n",
      "    +libedit-3.1\n",
      "    +libffi-3.2.1\n",
      "    +libgcc-ng-7.2.0\n",
      "    +libstdcxx-ng-7.2.0\n",
      "    +ncurses-6.0\n",
      "    +openssl-1.0.2l\n",
      "    +pip-9.0.1\n",
      "    +pycosat-0.6.2\n",
      "    +pycparser-2.18\n",
      "    +pyopenssl-17.2.0\n",
      "    +pysocks-1.6.7\n",
      "    +python-3.6.2\n",
      "    +readline-7.0\n",
      "    +requests-2.18.4\n",
      "    +ruamel_yaml-0.11.14\n",
      "    +setuptools-36.5.0\n",
      "    +six-1.10.0\n",
      "    +sqlite-3.20.1\n",
      "    +tk-8.6.7\n",
      "    +urllib3-1.22\n",
      "    +wheel-0.29.0\n",
      "    +xz-5.2.3\n",
      "    +yaml-0.1.7\n",
      "    +zlib-1.2.11\n",
      "\n",
      "2018-07-24 10:04:21  (rev 1)\n",
      "     conda  {4.3.27 -> 4.5.8 (conda-forge)}\n",
      "     conda-env  {2.6.0 -> 2.6.0 (conda-forge)}\n",
      "     pycosat  {0.6.2 -> 0.6.3 (conda-forge)}\n",
      "    +appdirs-1.4.3 (conda-forge)\n",
      "    +attrs-18.1.0 (conda-forge)\n",
      "    +automat-0.7.0 (conda-forge)\n",
      "    +backcall-0.1.0 (conda-forge)\n",
      "    +bleach-1.4.2 (bioconda)\n",
      "    +constantly-15.1.0 (conda-forge)\n",
      "    +decorator-4.3.0 (conda-forge)\n",
      "    +entrypoints-0.2.3 (conda-forge)\n",
      "    +gmp-6.1.2 (conda-forge)\n",
      "    +html5lib-1.0.1 (conda-forge)\n",
      "    +hyperlink-17.3.1 (conda-forge)\n",
      "    +incremental-17.5.0 (conda-forge)\n",
      "    +ipykernel-4.8.2 (conda-forge)\n",
      "    +ipython-6.4.0 (conda-forge)\n",
      "    +ipython_genutils-0.2.0 (conda-forge)\n",
      "    +jedi-0.12.1 (conda-forge)\n",
      "    +jinja2-2.10 (conda-forge)\n",
      "    +jsonschema-2.6.0 (conda-forge)\n",
      "    +jupyter_client-5.2.3 (conda-forge)\n",
      "    +jupyter_core-4.4.0 (conda-forge)\n",
      "    +libsodium-1.0.16 (conda-forge)\n",
      "    +markupsafe-1.0 (conda-forge)\n",
      "    +mistune-0.8.3 (conda-forge)\n",
      "    +nb_conda-2.2.1 (conda-forge)\n",
      "    +nb_conda_kernels-2.1.1 (conda-forge)\n",
      "    +nbconvert-5.3.1 (conda-forge)\n",
      "    +nbformat-4.4.0 (conda-forge)\n",
      "    +notebook-5.6.0 (conda-forge)\n",
      "    +pandoc-2.2.2 (conda-forge)\n",
      "    +pandocfilters-1.4.2 (conda-forge)\n",
      "    +parso-0.3.1 (conda-forge)\n",
      "    +pexpect-4.6.0 (conda-forge)\n",
      "    +pickleshare-0.7.4 (conda-forge)\n",
      "    +prometheus_client-0.3.0 (conda-forge)\n",
      "    +prompt_toolkit-1.0.15 (conda-forge)\n",
      "    +ptyprocess-0.6.0 (conda-forge)\n",
      "    +pyasn1-0.4.3 (conda-forge)\n",
      "    +pyasn1-modules-0.0.5 (bioconda)\n",
      "    +pygments-2.2.0 (conda-forge)\n",
      "    +pyhamcrest-1.9.0 (conda-forge)\n",
      "    +python-dateutil-2.7.3 (conda-forge)\n",
      "    +pyzmq-17.1.0 (conda-forge)\n",
      "    +send2trash-1.5.0 (conda-forge)\n",
      "    +service_identity-17.0.0 (conda-forge)\n",
      "    +simplegeneric-0.8.1 (conda-forge)\n",
      "    +terminado-0.8.1 (conda-forge)\n",
      "    +testpath-0.3.1 (conda-forge)\n",
      "    +tornado-5.1 (conda-forge)\n",
      "    +traitlets-4.3.2 (conda-forge)\n",
      "    +twisted-18.7.0 (conda-forge)\n",
      "    +wcwidth-0.1.7 (conda-forge)\n",
      "    +webencodings-0.5 (conda-forge)\n",
      "    +zeromq-4.2.5 (conda-forge)\n",
      "    +zope.interface-4.5.0 (conda-forge)\n",
      "\n",
      "2018-07-24 10:14:02  (rev 2)\n",
      "     ca-certificates  {2017.08.26 -> 2018.4.16 (conda-forge)}\n",
      "     certifi  {2017.7.27.1 -> 2018.4.16 (conda-forge)}\n",
      "     openssl  {1.0.2l -> 1.0.2o (conda-forge)}\n",
      "     twisted  {18.7.0 (conda-forge) -> 17.5.0}\n",
      "    +alembic-0.9.9 (conda-forge)\n",
      "    +async_generator-1.9 (conda-forge)\n",
      "    +configurable-http-proxy-3.1.0 (conda-forge)\n",
      "    +dbus-1.13.0 (conda-forge)\n",
      "    +expat-2.2.5 (conda-forge)\n",
      "    +fontconfig-2.12.6 (conda-forge)\n",
      "    +freetype-2.8.1 (conda-forge)\n",
      "    +gettext-0.19.8.1 (conda-forge)\n",
      "    +glib-2.55.0 (conda-forge)\n",
      "    +gst-plugins-base-1.8.0 (conda-forge)\n",
      "    +gstreamer-1.8.0 (conda-forge)\n",
      "    +icu-58.2 (conda-forge)\n",
      "    +ipywidgets-7.3.0 (conda-forge)\n",
      "    +jpeg-9c (conda-forge)\n",
      "    +jupyter-1.0.0 (conda-forge)\n",
      "    +jupyter_console-5.2.0 (conda-forge)\n",
      "    +jupyterhub-0.9.1 (conda-forge)\n",
      "    +jupyterlab-0.32.1 (conda-forge)\n",
      "    +jupyterlab_launcher-0.10.5 (conda-forge)\n",
      "    +libcurl-7.60.0\n",
      "    +libgcc-7.2.0\n",
      "    +libiconv-1.15 (conda-forge)\n",
      "    +libpng-1.6.34 (conda-forge)\n",
      "    +libssh2-1.8.0 (conda-forge)\n",
      "    +libxcb-1.13 (conda-forge)\n",
      "    +libxml2-2.9.8 (conda-forge)\n",
      "    +mako-1.0.7 (conda-forge)\n",
      "    +nodejs-8.10.0 (conda-forge)\n",
      "    +pamela-0.3.0 (conda-forge)\n",
      "    +pcre-8.41 (conda-forge)\n",
      "    +pthread-stubs-0.4 (conda-forge)\n",
      "    +pycurl-7.43.0.2\n",
      "    +pyqt-5.6.0 (conda-forge)\n",
      "    +python-editor-1.0.3 (conda-forge)\n",
      "    +python-oauth2-1.0.1 (conda-forge)\n",
      "    +qt-5.6.2 (conda-forge)\n",
      "    +qtconsole-4.3.1 (conda-forge)\n",
      "    +sip-4.18 (conda-forge)\n",
      "    +sqlalchemy-1.2.10 (conda-forge)\n",
      "    +widgetsnbextension-3.3.0 (conda-forge)\n",
      "    +xorg-libxau-1.0.8 (conda-forge)\n",
      "    +xorg-libxdmcp-1.1.2 (conda-forge)\n",
      "\n",
      "2018-07-24 10:23:21  (rev 3)\n",
      "    +sudospawner-0.5.2 (conda-forge)\n",
      "\n",
      "2018-07-24 10:53:31  (rev 4)\n",
      "    -nb_conda-2.2.1 (conda-forge)\n",
      "    -nb_conda_kernels-2.1.1 (conda-forge)\n",
      "\n",
      "2018-07-24 11:20:08  (rev 5)\n",
      "    +nb_conda-2.2.1 (conda-forge)\n",
      "    +nb_conda_kernels-2.1.1 (conda-forge)\n",
      "\n",
      "2018-08-09 09:20:16  (rev 6)\n",
      "     conda  {4.5.8 (conda-forge) -> 4.5.9 (conda-forge)}\n",
      "     openssl  {1.0.2o (conda-forge) -> 1.0.2o (conda-forge)}\n",
      "    +irida-linker-1.0.1 (bioconda)\n",
      "    +perl-5.26.2 (conda-forge)\n",
      "    +perl-common-sense-3.74 (bioconda)\n",
      "    +perl-config-simple-4.58 (bioconda)\n",
      "    +perl-digest-hmac-1.03 (bioconda)\n",
      "    +perl-encode-locale-1.05 (bioconda)\n",
      "    +perl-exporter-5.72 (bioconda)\n",
      "    +perl-file-listing-6.04 (bioconda)\n",
      "    +perl-file-path-2.15 (bioconda)\n",
      "    +perl-getopt-long-2.50 (bioconda)\n",
      "    +perl-html-parser-3.72 (bioconda)\n",
      "    +perl-html-tagset-3.20 (bioconda)\n",
      "    +perl-http-cookies-6.01 (bioconda)\n",
      "    +perl-http-daemon-6.01 (bioconda)\n",
      "    +perl-http-date-6.02 (bioconda)\n",
      "    +perl-http-message-6.11 (bioconda)\n",
      "    +perl-http-negotiate-6.01 (bioconda)\n",
      "    +perl-io-html-1.001 (bioconda)\n",
      "    +perl-io-socket-ssl-2.024 (bioconda)\n",
      "    +perl-json-2.90 (bioconda)\n",
      "    +perl-json-xs-2.34 (bioconda)\n",
      "    +perl-libwww-perl-6.15 (bioconda)\n",
      "    +perl-lwp-mediatypes-6.02 (bioconda)\n",
      "    +perl-lwp-simple-6.15 (bioconda)\n",
      "    +perl-mime-base64-3.15 (bioconda)\n",
      "    +perl-net-http-6.09 (bioconda)\n",
      "    +perl-net-ssleay-1.84 (bioconda)\n",
      "    +perl-ntlm-1.09 (bioconda)\n",
      "    +perl-termreadkey-2.32 (bioconda)\n",
      "    +perl-types-serialiser-1.0 (bioconda)\n",
      "    +perl-uri-1.71 (bioconda)\n",
      "    +perl-www-robotrules-6.02 (bioconda)\n",
      "    +perl-xsloader-0.24 (bioconda)\n",
      "\n",
      "2018-08-09 09:24:10  (rev 7)\n",
      "    +aioeasywebdav-2.2.0 (conda-forge)\n",
      "    +aiohttp-3.3.2 (conda-forge)\n",
      "    +async-timeout-3.0.0 (conda-forge)\n",
      "    +bcrypt-3.1.4\n",
      "    +boto3-1.7.73 (conda-forge)\n",
      "    +botocore-1.10.73 (conda-forge)\n",
      "    +cachetools-2.1.0 (conda-forge)\n",
      "    +cairo-1.14.10 (conda-forge)\n",
      "    +configargparse-0.13.0 (conda-forge)\n",
      "    +datrie-0.7.1\n",
      "    +docutils-0.14 (conda-forge)\n",
      "    +dropbox-9.0.0 (conda-forge)\n",
      "    +filechunkio-1.6 (bioconda)\n",
      "    +ftputil-3.2 (bioconda)\n",
      "    +google-api-core-0.1.4 (conda-forge)\n",
      "    +google-auth-1.2.1 (conda-forge)\n",
      "    +google-cloud-core-0.28.1 (conda-forge)\n",
      "    +google-cloud-storage-1.10.0 (conda-forge)\n",
      "    +google-resumable-media-0.3.1 (conda-forge)\n",
      "    +googleapis-common-protos-1.5.3 (conda-forge)\n",
      "    +graphite2-1.3.11 (conda-forge)\n",
      "    +graphviz-2.38.0 (conda-forge)\n",
      "    +harfbuzz-1.7.6 (conda-forge)\n",
      "    +idna_ssl-1.0.0 (conda-forge)\n",
      "    +intel-openmp-2018.0.3\n",
      "    +jmespath-0.9.3 (conda-forge)\n",
      "    +libgfortran-ng-7.2.0\n",
      "    +libprotobuf-3.5.2 (conda-forge)\n",
      "    +libtiff-4.0.9 (conda-forge)\n",
      "    +libtool-2.4.6 (conda-forge)\n",
      "    +mkl-2018.0.3\n",
      "    +mkl_fft-1.0.5 (conda-forge)\n",
      "    +mkl_random-1.0.1 (conda-forge)\n",
      "    +multidict-4.3.1 (conda-forge)\n",
      "    +networkx-2.1 (conda-forge)\n",
      "    +numpy-1.14.2\n",
      "    +pandas-0.23.4 (conda-forge)\n",
      "    +pango-1.40.14 (conda-forge)\n",
      "    +paramiko-2.4.1 (conda-forge)\n",
      "    +pixman-0.34.0 (conda-forge)\n",
      "    +prettytable-0.7.2 (conda-forge)\n",
      "    +protobuf-3.5.2 (conda-forge)\n",
      "    +psutil-5.4.6 (conda-forge)\n",
      "    +pygraphviz-1.3.1 (bioconda)\n",
      "    +pynacl-1.1.2 (conda-forge)\n",
      "    +pysftp-0.2.9 (bioconda)\n",
      "    +python-irodsclient-0.7.0 (conda-forge)\n",
      "    +pytz-2018.5 (conda-forge)\n",
      "    +pyyaml-3.12 (conda-forge)\n",
      "    +ratelimiter-1.2.0 (conda-forge)\n",
      "    +rsa-3.1.4 (bioconda)\n",
      "    +s3transfer-0.1.13 (conda-forge)\n",
      "    +snakemake-5.2.2 (bioconda)\n",
      "    +snakemake-minimal-5.2.2 (bioconda)\n",
      "    +wrapt-1.10.11 (conda-forge)\n",
      "    +xmlrunner-1.7.7 (conda-forge)\n",
      "    +yarl-1.2.6 (conda-forge)\n",
      "\n",
      "2018-08-10 09:41:47  (rev 8)\n",
      "    -jupyterhub-0.9.1 (conda-forge)\n",
      "    -sudospawner-0.5.2 (conda-forge)\n",
      "\n",
      "2018-08-10 09:43:47  (rev 9)\n",
      "    -jupyter-1.0.0 (conda-forge)\n",
      "\n",
      "2018-08-10 10:02:13  (rev 10)\n",
      "    -jupyterlab-0.32.1 (conda-forge)\n",
      "\n",
      "2018-09-17 08:00:38  (rev 11)\n",
      "     ca-certificates  {2018.4.16 (conda-forge) -> 2018.8.24 (conda-forge)}\n",
      "     certifi  {2018.4.16 (conda-forge) -> 2018.8.24 (conda-forge)}\n",
      "     conda  {4.5.9 (conda-forge) -> 4.5.11 (conda-forge)}\n",
      "     numpy  {1.14.2 -> 1.14.3}\n",
      "     openssl  {1.0.2o (conda-forge) -> 1.0.2p (conda-forge)}\n",
      "    +libopenblas-0.2.20\n",
      "    +numpy-base-1.14.3\n",
      "\n",
      "2018-09-17 09:30:19  (rev 12)\n",
      "     mkl_fft  {1.0.5 (conda-forge) -> 1.0.6 (conda-forge)}\n",
      "     numpy  {1.14.3 -> 1.15.0}\n",
      "     numpy-base  {1.14.3 -> 1.15.0}\n",
      "    +blas-1.0\n",
      "\n",
      "2018-09-22 20:00:08  (rev 13)\n",
      "     certifi  {2018.8.24 (conda-forge) -> 2018.8.24 (conda-forge)}\n",
      "\n",
      "2018-10-12 09:30:32  (rev 14)\n",
      "     conda  {4.5.11 (conda-forge) -> 4.5.11 (conda-forge)}\n",
      "     openssl  {1.0.2p (conda-forge) -> 1.0.2p (conda-forge)}\n",
      "\n",
      "2018-10-16 05:09:57  (rev 15)\n",
      "     ca-certificates  {2018.8.24 (conda-forge) -> 2018.10.15 (conda-forge)}\n",
      "     certifi  {2018.8.24 (conda-forge) -> 2018.10.15 (conda-forge)}\n",
      "\n",
      "2018-11-29 20:01:29  (rev 16)\n",
      "     ca-certificates  {2018.10.15 (conda-forge) -> 2018.11.29 (conda-forge)}\n",
      "\n",
      "2018-11-30 00:01:33  (rev 17)\n",
      "     certifi  {2018.10.15 (conda-forge) -> 2018.11.29 (conda-forge)}\n",
      "\n",
      "(base) "
     ]
    },
    {
     "ename": "",
     "evalue": "1",
     "execution_count": 29,
     "output_type": "error",
     "traceback": []
    }
   ],
   "source": [
    "# Exercise 8.2\n",
    "# Activate the base environment\n",
    "# What revision is it on?\n",
    "source activate base\n",
    "conda list --revisions"
   ]
  },
  {
   "cell_type": "markdown",
   "metadata": {},
   "source": [
    "#### Deactivate Current Environment\n",
    "```source deactivate```\n",
    "\n",
    "* Returns to previous environment\n",
    "* The base environment is also called shell 0 and None\n",
    "* Environments can be nested within each other\n",
    " * Nesting results in packages shared from higher env to lower\n",
    " * Packages found in both are superceded by the newest \n"
   ]
  },
  {
   "cell_type": "code",
   "execution_count": 22,
   "metadata": {},
   "outputs": [
    {
     "name": "stdout",
     "output_type": "stream",
     "text": [
      "\n",
      "     active environment : None\n",
      "            shell level : 0\n",
      "       user config file : /home/CSCScience.ca/AZetner/.condarc\n",
      " populated config files : /opt/miniconda3/.condarc\n",
      "          conda version : 4.5.11\n",
      "    conda-build version : not installed\n",
      "         python version : 3.6.2.final.0\n",
      "       base environment : /opt/miniconda3  (read only)\n",
      "           channel URLs : https://conda.anaconda.org/conda-forge/linux-64\n",
      "                          https://conda.anaconda.org/conda-forge/noarch\n",
      "                          https://conda.anaconda.org/bioconda/linux-64\n",
      "                          https://conda.anaconda.org/bioconda/noarch\n",
      "                          https://repo.anaconda.com/pkgs/main/linux-64\n",
      "                          https://repo.anaconda.com/pkgs/main/noarch\n",
      "                          https://repo.anaconda.com/pkgs/free/linux-64\n",
      "                          https://repo.anaconda.com/pkgs/free/noarch\n",
      "                          https://repo.anaconda.com/pkgs/r/linux-64\n",
      "                          https://repo.anaconda.com/pkgs/r/noarch\n",
      "                          https://repo.anaconda.com/pkgs/pro/linux-64\n",
      "                          https://repo.anaconda.com/pkgs/pro/noarch\n",
      "          package cache : /opt/miniconda3/pkgs\n",
      "                          /home/CSCScience.ca/AZetner/.conda/pkgs\n",
      "       envs directories : /home/CSCScience.ca/AZetner/.conda/envs\n",
      "                          /Drives/P/conda_envs\n",
      "                          /Drives/X/public/conda_envs\n",
      "                          /opt/miniconda3/envs\n",
      "               platform : linux-64\n",
      "             user-agent : conda/4.5.11 requests/2.18.4 CPython/3.6.2 Linux/3.10.0-862.14.4.el7.x86_64 centos/7 glibc/2.17\n",
      "                UID:GID : 100823:100823\n",
      "             netrc file : None\n",
      "           offline mode : False\n",
      "\n"
     ]
    }
   ],
   "source": [
    "# Run this cell until you are in your base environment\n",
    "# Base is also referred to as shell level 0 or None\n",
    " source deactivate\n",
    " conda info\n",
    " "
   ]
  },
  {
   "cell_type": "code",
   "execution_count": 18,
   "metadata": {},
   "outputs": [
    {
     "name": "stdout",
     "output_type": "stream",
     "text": [
      "Base environment:\n",
      "Python 3.6.2 :: Anaconda, Inc.\n",
      "2.7 environment:\n",
      "(python2.7) Python 2.7.15\n",
      "(python2.7) SPAdes environment:\n",
      "(python2.7) (/Drives/P/conda_envs/spades) Python 3.6.5 :: Anaconda, Inc.\n",
      "(/Drives/P/conda_envs/spades) "
     ]
    },
    {
     "ename": "",
     "evalue": "1",
     "execution_count": 18,
     "output_type": "error",
     "traceback": []
    }
   ],
   "source": [
    "# Example \n",
    "# This uses an environment y'all don't have so sit back and watch\n",
    "# What version is python in base?\n",
    "echo \"Base environment:\"\n",
    "python -V\n",
    "# Activate the python 2.7 env\n",
    "echo \"2.7 environment:\"\n",
    "source activate python2.7\n",
    "python -V\n",
    "echo \"SPAdes environment:\"\n",
    "source activate spades\n",
    "python -V\n"
   ]
  },
  {
   "cell_type": "code",
   "execution_count": 39,
   "metadata": {},
   "outputs": [
    {
     "name": "stdout",
     "output_type": "stream",
     "text": [
      "\n",
      "     active environment : None\n",
      "            shell level : 0\n",
      "       user config file : /home/CSCScience.ca/AZetner/.condarc\n",
      " populated config files : /opt/miniconda3/.condarc\n",
      "          conda version : 4.5.11\n",
      "    conda-build version : not installed\n",
      "         python version : 3.6.2.final.0\n",
      "       base environment : /opt/miniconda3  (read only)\n",
      "           channel URLs : https://conda.anaconda.org/conda-forge/linux-64\n",
      "                          https://conda.anaconda.org/conda-forge/noarch\n",
      "                          https://conda.anaconda.org/bioconda/linux-64\n",
      "                          https://conda.anaconda.org/bioconda/noarch\n",
      "                          https://repo.anaconda.com/pkgs/main/linux-64\n",
      "                          https://repo.anaconda.com/pkgs/main/noarch\n",
      "                          https://repo.anaconda.com/pkgs/free/linux-64\n",
      "                          https://repo.anaconda.com/pkgs/free/noarch\n",
      "                          https://repo.anaconda.com/pkgs/r/linux-64\n",
      "                          https://repo.anaconda.com/pkgs/r/noarch\n",
      "                          https://repo.anaconda.com/pkgs/pro/linux-64\n",
      "                          https://repo.anaconda.com/pkgs/pro/noarch\n",
      "          package cache : /opt/miniconda3/pkgs\n",
      "                          /home/CSCScience.ca/AZetner/.conda/pkgs\n",
      "       envs directories : /home/CSCScience.ca/AZetner/.conda/envs\n",
      "                          /Drives/P/conda_envs\n",
      "                          /Drives/X/public/conda_envs\n",
      "                          /opt/miniconda3/envs\n",
      "               platform : linux-64\n",
      "             user-agent : conda/4.5.11 requests/2.18.4 CPython/3.6.2 Linux/3.10.0-862.14.4.el7.x86_64 centos/7 glibc/2.17\n",
      "                UID:GID : 100823:100823\n",
      "             netrc file : None\n",
      "           offline mode : False\n",
      "\n"
     ]
    }
   ],
   "source": [
    "# Exercise 9\n",
    "# Return to the previous environment by deactivating the current one\n",
    "# What environment are you in now? What shell level? Use conda info\n",
    "# Deactivate further (by running this cell) until you reach the base environment\n",
    "\n",
    "source deactivate\n",
    "conda info\n",
    "\n",
    "\n"
   ]
  },
  {
   "cell_type": "markdown",
   "metadata": {},
   "source": [
    "#### Creating Environments\n",
    "```conda create OTHER-ARGUMENTS -n ENVNAME```\n",
    "\n",
    "* Not allowed to run on the head node (use sbatch/srun)\n",
    "* Important arguments:\n",
    " * ```-y```: flag, accept all prompts\n",
    " * ```-n / --name```: name your environment, no spaces\n",
    " * ```--clone ENVNAME```: clone an existing environment\n",
    "   * _Currently broken for unknown reason_ use ```--explicit``` method below\n",
    " * ```-f ENVCONFIG.yml```: clone an existing environment from a configuration file\n",
    " * After the environment creation arguments, a list of package names can be given and installed at the same time\n"
   ]
  },
  {
   "cell_type": "code",
   "execution_count": 34,
   "metadata": {},
   "outputs": [
    {
     "name": "stdout",
     "output_type": "stream",
     "text": [
      "(testenv-azetner) (testenv-azetner) (testenv-azetner) (testenv-azetner) Submitted batch job 2812198\n",
      "(testenv-azetner) "
     ]
    },
    {
     "ename": "",
     "evalue": "1",
     "execution_count": 34,
     "output_type": "error",
     "traceback": []
    }
   ],
   "source": [
    "# Exercise 10.1\n",
    "# Create a new environment by modifying the sbatch command below\n",
    "# Name the environment testenv-YOURNAME\n",
    "\n",
    "sbatch -p NMLResearch -c 1 --mem 1G --wrap=\"conda create -y -n testenv-azetner\""
   ]
  },
  {
   "cell_type": "code",
   "execution_count": 35,
   "metadata": {},
   "outputs": [
    {
     "name": "stdout",
     "output_type": "stream",
     "text": [
      "(testenv-azetner) (testenv-azetner) # conda environments:\n",
      "#\n",
      "albacore                 /Drives/P/conda_envs/albacore\n",
      "albacore-2.2.7           /Drives/P/conda_envs/albacore-2.2.7\n",
      "albacore-2.3.0           /Drives/P/conda_envs/albacore-2.3.0\n",
      "albacore-2.3.3           /Drives/P/conda_envs/albacore-2.3.3\n",
      "albacore-dev             /Drives/P/conda_envs/albacore-dev\n",
      "beast-2.4.5              /Drives/P/conda_envs/beast-2.4.5\n",
      "beast-2.5.0              /Drives/P/conda_envs/beast-2.5.0\n",
      "bioperl                  /Drives/P/conda_envs/bioperl\n",
      "blast_plus_2.7.1         /Drives/P/conda_envs/blast_plus_2.7.1\n",
      "bowtie2                  /Drives/P/conda_envs/bowtie2\n",
      "bracken-1.0              /Drives/P/conda_envs/bracken-1.0\n",
      "cdc_nomenclature         /Drives/P/conda_envs/cdc_nomenclature\n",
      "circlator                /Drives/P/conda_envs/circlator\n",
      "ectyper-0.5.4            /Drives/P/conda_envs/ectyper-0.5.4\n",
      "graphlan                 /Drives/P/conda_envs/graphlan\n",
      "groot                    /Drives/P/conda_envs/groot\n",
      "hclust2                  /Drives/P/conda_envs/hclust2\n",
      "humann2-0.11.1           /Drives/P/conda_envs/humann2-0.11.1\n",
      "illumina                 /Drives/P/conda_envs/illumina\n",
      "irida-scripts            /Drives/P/conda_envs/irida-scripts\n",
      "kaiju-1.6.2              /Drives/P/conda_envs/kaiju-1.6.2\n",
      "kaiju_v1.6.3             /Drives/P/conda_envs/kaiju_v1.6.3\n",
      "khmer                    /Drives/P/conda_envs/khmer\n",
      "mash                     /Drives/P/conda_envs/mash\n",
      "maxbin2                  /Drives/P/conda_envs/maxbin2\n",
      "mecat                    /Drives/P/conda_envs/mecat\n",
      "metaWRAP-1.0.2           /Drives/P/conda_envs/metaWRAP-1.0.2\n",
      "metabat2                 /Drives/P/conda_envs/metabat2\n",
      "metacherchant-0.1.0      /Drives/P/conda_envs/metacherchant-0.1.0\n",
      "metaphlan2               /Drives/P/conda_envs/metaphlan2\n",
      "mothur-1.39.5            /Drives/P/conda_envs/mothur-1.39.5\n",
      "mothur_14.0.5            /Drives/P/conda_envs/mothur_14.0.5\n",
      "mummer-3.23              /Drives/P/conda_envs/mummer-3.23\n",
      "nanopore                 /Drives/P/conda_envs/nanopore\n",
      "nanopore_unicycler       /Drives/P/conda_envs/nanopore_unicycler\n",
      "nanopore_unicycler_racon     /Drives/P/conda_envs/nanopore_unicycler_racon\n",
      "neptune                  /Drives/P/conda_envs/neptune\n",
      "panphlan                 /Drives/P/conda_envs/panphlan\n",
      "parse_amr_output         /Drives/P/conda_envs/parse_amr_output\n",
      "plasflow                 /Drives/P/conda_envs/plasflow\n",
      "porechop                 /Drives/P/conda_envs/porechop\n",
      "prodigal_v2.6.3          /Drives/P/conda_envs/prodigal_v2.6.3\n",
      "prokka_v1.13.3           /Drives/P/conda_envs/prokka_v1.13.3\n",
      "proteomics               /Drives/P/conda_envs/proteomics\n",
      "quast                    /Drives/P/conda_envs/quast\n",
      "samtools_v1.9            /Drives/P/conda_envs/samtools_v1.9\n",
      "sourmash_2.0.0a6         /Drives/P/conda_envs/sourmash_2.0.0a6\n",
      "spades                   /Drives/P/conda_envs/spades\n",
      "spider22                 /Drives/P/conda_envs/spider22\n",
      "spider24                 /Drives/P/conda_envs/spider24\n",
      "spingo_v13               /Drives/P/conda_envs/spingo_v13\n",
      "sra-tools                /Drives/P/conda_envs/sra-tools\n",
      "stamp                    /Drives/P/conda_envs/stamp\n",
      "staramr                  /Drives/P/conda_envs/staramr\n",
      "strainphlan              /Drives/P/conda_envs/strainphlan\n",
      "test_crumpit             /Drives/P/conda_envs/test_crumpit\n",
      "unicycler-0.4.7          /Drives/P/conda_envs/unicycler-0.4.7\n",
      "KAT                      /home/CSCScience.ca/AZetner/.conda/envs/KAT\n",
      "SRST2                    /home/CSCScience.ca/AZetner/.conda/envs/SRST2\n",
      "Utils                    /home/CSCScience.ca/AZetner/.conda/envs/Utils\n",
      "Utils-2                  /home/CSCScience.ca/AZetner/.conda/envs/Utils-2\n",
      "art                      /home/CSCScience.ca/AZetner/.conda/envs/art\n",
      "bbmap-38.06              /home/CSCScience.ca/AZetner/.conda/envs/bbmap-38.06\n",
      "bioperl-AZ               /home/CSCScience.ca/AZetner/.conda/envs/bioperl-AZ\n",
      "clustalo                 /home/CSCScience.ca/AZetner/.conda/envs/clustalo\n",
      "clustalw                 /home/CSCScience.ca/AZetner/.conda/envs/clustalw\n",
      "fastQC-0.11.7            /home/CSCScience.ca/AZetner/.conda/envs/fastQC-0.11.7\n",
      "pctest                   /home/CSCScience.ca/AZetner/.conda/envs/pctest\n",
      "pneumocat-v1.2           /home/CSCScience.ca/AZetner/.conda/envs/pneumocat-v1.2\n",
      "porechop-v0.23           /home/CSCScience.ca/AZetner/.conda/envs/porechop-v0.23\n",
      "python2.7                /home/CSCScience.ca/AZetner/.conda/envs/python2.7\n",
      "samtools                 /home/CSCScience.ca/AZetner/.conda/envs/samtools\n",
      "testenv-azetner       *  /home/CSCScience.ca/AZetner/.conda/envs/testenv-azetner\n",
      "testenv-zetner           /home/CSCScience.ca/AZetner/.conda/envs/testenv-zetner\n",
      "testenv2-adrian          /home/CSCScience.ca/AZetner/.conda/envs/testenv2-adrian\n",
      "base                     /opt/miniconda3\n",
      "irida-api-scripts        /opt/miniconda3/envs/irida-api-scripts\n",
      "irida-sistr              /opt/miniconda3/envs/irida-sistr\n",
      "irida-sistr-results      /opt/miniconda3/envs/irida-sistr-results\n",
      "jupyterhub               /opt/miniconda3/envs/jupyterhub\n",
      "mentalist@0.2.0          /opt/miniconda3/envs/mentalist@0.2.0\n",
      "py3k                     /opt/miniconda3/envs/py3k\n",
      "r                        /opt/miniconda3/envs/r\n",
      "\n",
      "(testenv-azetner) "
     ]
    },
    {
     "ename": "",
     "evalue": "1",
     "execution_count": 35,
     "output_type": "error",
     "traceback": []
    }
   ],
   "source": [
    "# Exercise 10.2\n",
    "# View your newly created environment with the others using conda env list\n",
    "conda env list\n"
   ]
  },
  {
   "cell_type": "code",
   "execution_count": 36,
   "metadata": {},
   "outputs": [
    {
     "name": "stdout",
     "output_type": "stream",
     "text": [
      "(testenv-azetner) (testenv-azetner) (testenv-azetner) Solving environment: ...working... done\n",
      "\n",
      "## Package Plan ##\n",
      "\n",
      "  environment location: /home/CSCScience.ca/AZetner/.conda/envs/testenv-azetner\n",
      "\n",
      "\n",
      "Preparing transaction: ...working... done\n",
      "Verifying transaction: ...working... done\n",
      "Executing transaction: ...working... done\n",
      "#\n",
      "# To activate this environment, use\n",
      "#\n",
      "#     $ conda activate testenv-azetner\n",
      "#\n",
      "# To deactivate an active environment, use\n",
      "#\n",
      "#     $ conda deactivate\n",
      "\n",
      "(testenv-azetner) "
     ]
    },
    {
     "ename": "",
     "evalue": "1",
     "execution_count": 36,
     "output_type": "error",
     "traceback": []
    }
   ],
   "source": [
    "# Exercise 10.3\n",
    "# Examine the slurm output from above with the more command\n",
    "\n",
    "more slurm-2812198.out"
   ]
  },
  {
   "cell_type": "code",
   "execution_count": 37,
   "metadata": {},
   "outputs": [
    {
     "name": "stdout",
     "output_type": "stream",
     "text": [
      "(testenv-azetner) (testenv-azetner) (testenv-azetner) (testenv-azetner) (testenv-azetner) \n",
      "     active environment : testenv-azetner\n",
      "    active env location : /home/CSCScience.ca/AZetner/.conda/envs/testenv-azetner\n",
      "            shell level : 1\n",
      "       user config file : /home/CSCScience.ca/AZetner/.condarc\n",
      " populated config files : /opt/miniconda3/.condarc\n",
      "          conda version : 4.5.11\n",
      "    conda-build version : not installed\n",
      "         python version : 3.6.2.final.0\n",
      "       base environment : /opt/miniconda3  (read only)\n",
      "           channel URLs : https://conda.anaconda.org/conda-forge/linux-64\n",
      "                          https://conda.anaconda.org/conda-forge/noarch\n",
      "                          https://conda.anaconda.org/bioconda/linux-64\n",
      "                          https://conda.anaconda.org/bioconda/noarch\n",
      "                          https://repo.anaconda.com/pkgs/main/linux-64\n",
      "                          https://repo.anaconda.com/pkgs/main/noarch\n",
      "                          https://repo.anaconda.com/pkgs/free/linux-64\n",
      "                          https://repo.anaconda.com/pkgs/free/noarch\n",
      "                          https://repo.anaconda.com/pkgs/r/linux-64\n",
      "                          https://repo.anaconda.com/pkgs/r/noarch\n",
      "                          https://repo.anaconda.com/pkgs/pro/linux-64\n",
      "                          https://repo.anaconda.com/pkgs/pro/noarch\n",
      "          package cache : /opt/miniconda3/pkgs\n",
      "                          /home/CSCScience.ca/AZetner/.conda/pkgs\n",
      "       envs directories : /home/CSCScience.ca/AZetner/.conda/envs\n",
      "                          /Drives/P/conda_envs\n",
      "                          /Drives/X/public/conda_envs\n",
      "                          /opt/miniconda3/envs\n",
      "               platform : linux-64\n",
      "             user-agent : conda/4.5.11 requests/2.18.4 CPython/3.6.2 Linux/3.10.0-862.14.4.el7.x86_64 centos/7 glibc/2.17\n",
      "                UID:GID : 100823:100823\n",
      "             netrc file : None\n",
      "           offline mode : False\n",
      "\n",
      "(testenv-azetner) "
     ]
    },
    {
     "ename": "",
     "evalue": "1",
     "execution_count": 37,
     "output_type": "error",
     "traceback": []
    }
   ],
   "source": [
    "# Exercise 10.4\n",
    "# Activate your new environment\n",
    "# Use the correct conda command to show INFOrmation about it\n",
    "\n",
    "source activate testenv-azetner\n",
    "conda info"
   ]
  },
  {
   "cell_type": "code",
   "execution_count": 39,
   "metadata": {},
   "outputs": [
    {
     "name": "stdout",
     "output_type": "stream",
     "text": [
      "(testenv-azetner) (testenv-azetner) # packages in environment at /home/CSCScience.ca/AZetner/.conda/envs/testenv-azetner:\n",
      "#\n",
      "# Name                    Version                   Build  Channel\n",
      "(testenv-azetner) (testenv-azetner) (testenv-azetner) 2018-12-03 22:17:35  (rev 0)\n",
      "\n",
      "(testenv-azetner) "
     ]
    },
    {
     "ename": "",
     "evalue": "1",
     "execution_count": 39,
     "output_type": "error",
     "traceback": []
    }
   ],
   "source": [
    "# Exercise 10.5\n",
    "# Show installed packages using the appropriate command\n",
    "conda list\n",
    "\n",
    "# Modify that command to show revisions\n",
    "conda list --revisions"
   ]
  },
  {
   "cell_type": "markdown",
   "metadata": {},
   "source": [
    "Nothing shows up, nothing added beyond creating the environment"
   ]
  },
  {
   "cell_type": "markdown",
   "metadata": {},
   "source": [
    "#### Save Explicit Environment Information to a Text File\n",
    "```conda list --explicit > bio-env.txt```\n",
    "\n",
    "* Saves instructions to recreate that environment later\n",
    "* Does not save revision history\n",
    "\n",
    "\n",
    "#### Create Environment from Text File\n",
    "```conda create -y -n bio-env --file bio-env.txt```\n",
    "\n",
    "* Uses the instructions as created to recreate an environment\n",
    "* No revision history is included in this method\n",
    "* We're trying to fix --clone not working. Until then, use this.\n",
    "\n"
   ]
  },
  {
   "cell_type": "code",
   "execution_count": 44,
   "metadata": {},
   "outputs": [],
   "source": [
    "# Exercise 11.1\n",
    "# First copy /Drives/W/Temporary/conda-workshop-2018/python2.txt\n",
    "\n",
    "# cp /Drives/W/Temporary/conda-workshop-2018/python2.txt ./\n"
   ]
  },
  {
   "cell_type": "code",
   "execution_count": 45,
   "metadata": {},
   "outputs": [
    {
     "name": "stdout",
     "output_type": "stream",
     "text": [
      "Submitted batch job 2813370\n"
     ]
    }
   ],
   "source": [
    "# Exercise 11.2\n",
    "# Make a new environment from that file\n",
    "# Use the below command in wrap\n",
    "# conda create -y -n mypy2 --file python2.txt \n",
    "sbatch -p NMLResearch -c 1 --mem 1G --wrap=\"conda create -y -n mypy2 --file python2.txt\""
   ]
  },
  {
   "cell_type": "code",
   "execution_count": 46,
   "metadata": {},
   "outputs": [
    {
     "name": "stdout",
     "output_type": "stream",
     "text": [
      "Preparing transaction: ...working... done\n",
      "Verifying transaction: ...working... done\n",
      "Executing transaction: ...working... done\n"
     ]
    }
   ],
   "source": [
    "cat slurm-2813370.out"
   ]
  },
  {
   "cell_type": "code",
   "execution_count": 47,
   "metadata": {},
   "outputs": [
    {
     "name": "stdout",
     "output_type": "stream",
     "text": [
      "(mypy2) 2018-12-03 22:31:40  (rev 0)\n",
      "    +bzip2-1.0.6 (conda-forge)\n",
      "    +ca-certificates-2018.10.15 (conda-forge)\n",
      "    +certifi-2018.10.15 (conda-forge)\n",
      "    +libffi-3.2.1 (conda-forge)\n",
      "    +libgcc-ng-7.2.0 (conda-forge)\n",
      "    +libstdcxx-ng-7.2.0 (conda-forge)\n",
      "    +ncurses-6.1 (conda-forge)\n",
      "    +openssl-1.0.2p (conda-forge)\n",
      "    +pip-18.1 (conda-forge)\n",
      "    +python-3.7.1 (conda-forge)\n",
      "    +readline-7.0 (conda-forge)\n",
      "    +setuptools-40.6.2 (conda-forge)\n",
      "    +sqlite-3.25.3 (conda-forge)\n",
      "    +tk-8.6.9 (conda-forge)\n",
      "    +wheel-0.32.3 (conda-forge)\n",
      "    +xz-5.2.4 (conda-forge)\n",
      "    +zlib-1.2.11 (conda-forge)\n",
      "\n",
      "(mypy2) "
     ]
    },
    {
     "ename": "",
     "evalue": "1",
     "execution_count": 47,
     "output_type": "error",
     "traceback": []
    }
   ],
   "source": [
    "# Exercise 11.3\n",
    "# Activate that environment\n",
    "# List revisions \n",
    "source activate mypy2\n",
    "conda list --revisions\n",
    "\n"
   ]
  },
  {
   "cell_type": "markdown",
   "metadata": {},
   "source": [
    "These 'revisions' on rev 0 were the instructions on how conda should create the environment."
   ]
  },
  {
   "cell_type": "markdown",
   "metadata": {},
   "source": [
    "####  Removing Environments\n",
    "```conda env remove -y --name ENVIRONMENTNAME```\n",
    "\n",
    "* Use sbatch\n",
    "* Use ```-y``` in jupyter\n",
    "* Deletes the environment\n",
    "* No take-backsies\n",
    "* Recommend saving the info explicitly if any chance of needing again\n"
   ]
  },
  {
   "cell_type": "code",
   "execution_count": 48,
   "metadata": {},
   "outputs": [
    {
     "name": "stdout",
     "output_type": "stream",
     "text": [
      "(mypy2) (mypy2) (mypy2) (mypy2) "
     ]
    },
    {
     "ename": "",
     "evalue": "1",
     "execution_count": 48,
     "output_type": "error",
     "traceback": []
    }
   ],
   "source": [
    "# Exercise 12.1\n",
    "# Activate mypy2 if not already\n",
    "# Save explicit info to file mypy2.txt\n",
    "conda list --explicit > mypy2.txt\n",
    "\n"
   ]
  },
  {
   "cell_type": "code",
   "execution_count": 49,
   "metadata": {},
   "outputs": [
    {
     "name": "stdout",
     "output_type": "stream",
     "text": [
      "(mypy2) (mypy2) (mypy2) \n",
      "CondaEnvironmentError: cannot remove current environment. deactivate and run conda remove again\n",
      "\n",
      "(mypy2) (mypy2) (mypy2) "
     ]
    },
    {
     "ename": "",
     "evalue": "1",
     "execution_count": 49,
     "output_type": "error",
     "traceback": []
    }
   ],
   "source": [
    "# Exercise 12.2\n",
    "# Remove that environment \n",
    "\n",
    "conda env remove -y --name mypy2\n",
    "#sbatch -p NMLResearch -c 1 --mem=1G --wrap=\"conda env remove -y --name mypy2\"\n",
    "\n",
    "# Did it work? "
   ]
  },
  {
   "cell_type": "code",
   "execution_count": 51,
   "metadata": {},
   "outputs": [
    {
     "name": "stdout",
     "output_type": "stream",
     "text": [
      "Submitted batch job 2813648\n"
     ]
    }
   ],
   "source": [
    "# Exercise 12.3\n",
    "# If it didn't work, remedy the situation below based on output from the cell above\n",
    "# Try again\n",
    "\n",
    "source deactivate\n",
    "sbatch -p NMLResearch -c 1 --mem=1G --wrap=\"conda env remove -y --name mypy2\"\n",
    "\n"
   ]
  },
  {
   "cell_type": "markdown",
   "metadata": {},
   "source": [
    "### 3. Managing packages\n",
    "\n",
    "#### Get Packages from Channels\n",
    "* Directories of packages\n",
    "* URLs for those directories\n",
    "* Many defaults: r/pro/free/main\n",
    "* Custom channels available"
   ]
  },
  {
   "cell_type": "code",
   "execution_count": 1,
   "metadata": {},
   "outputs": [
    {
     "name": "stdout",
     "output_type": "stream",
     "text": [
      "channels:\n",
      "  - conda-forge\n",
      "  - bioconda\n",
      "  - defaults\n"
     ]
    }
   ],
   "source": [
    "# Example \n",
    "conda config --show channels"
   ]
  },
  {
   "cell_type": "markdown",
   "metadata": {},
   "source": [
    "#### Show Packages in the Environment\n",
    "```conda list```\n",
    "\n",
    "* Table of packages\n",
    "* Name, Version, Build, Channel\n",
    "* Defaults to active environment\n",
    "* use ```-n``` argument to list from a different one"
   ]
  },
  {
   "cell_type": "code",
   "execution_count": 2,
   "metadata": {},
   "outputs": [
    {
     "name": "stdout",
     "output_type": "stream",
     "text": [
      "# packages in environment at /Drives/P/conda_envs/mash:\n",
      "#\n",
      "# Name                    Version                   Build  Channel\n",
      "capnproto                 0.6.1                         0    conda-forge\n",
      "gsl                       2.2.1                h0c605f7_3    anaconda\n",
      "libgcc                    7.2.0                h69d50b8_2    anaconda\n",
      "libgcc-ng                 7.2.0                hdf63c60_3    anaconda\n",
      "libgfortran-ng            7.2.0                hdf63c60_3    anaconda\n",
      "libopenblas               0.2.20               h9ac9557_7    anaconda\n",
      "libstdcxx-ng              7.2.0                hdf63c60_3    anaconda\n",
      "mash                      2.0                    gsl2.2_2    bioconda\n",
      "openblas                  0.2.20                        4    anaconda\n",
      "openblas-devel            0.2.20                        7    anaconda\n",
      "zlib                      1.2.11               ha838bed_2    anaconda\n"
     ]
    }
   ],
   "source": [
    "# Example\n",
    "conda list -n mash"
   ]
  },
  {
   "cell_type": "markdown",
   "metadata": {},
   "source": [
    "#### Installing Packages to the Environment\n",
    "```conda install PACKAGENAME```\n",
    "\n",
    "* Must be done with sbatch!\n",
    "* Default install to active environment \n",
    "  * Use ```-n``` argument to install to a different one\n",
    "* Installs the newest version by default\n",
    "* Updates or installs dependencies if possible\n",
    "* Use ```-y``` to accept prompts as it runs\n",
    "* A custom channel can be supplied with ```-c```\n"
   ]
  },
  {
   "cell_type": "code",
   "execution_count": 52,
   "metadata": {},
   "outputs": [
    {
     "name": "stdout",
     "output_type": "stream",
     "text": [
      "Submitted batch job 2813698\n"
     ]
    }
   ],
   "source": [
    "# Example\n",
    "# Install mash to testenv-azetner\n",
    "# The channel command is optional because bioconda is one of our custom channels\n",
    "\n",
    "sbatch -p NMLResearch -c 1 --mem=1G -o mash-install-progress.out --wrap=\"conda install -y -c bioconda -n testenv-azetner mash\"\n",
    "\n",
    "# Watch that in the terminal with: tail -f mash-install-progress.out\n"
   ]
  },
  {
   "cell_type": "code",
   "execution_count": null,
   "metadata": {},
   "outputs": [],
   "source": [
    "# Exercise 13\n",
    "# Install mash to your own testenv-YOURNAME\n",
    "# Watch that in the terminal with: tail -f mash-install-progress.out\n"
   ]
  },
  {
   "cell_type": "markdown",
   "metadata": {},
   "source": [
    "#### Installing Specific Versions\n",
    " * Newest: numpy - Results in newest available in channels\n",
    " * Fuzzy: numpy=1.11 - Results in 1.11.0, 1.11.1, 1.11.2, 1.11.18 etc...\n",
    " * Exact: numpy=1.11.0 - Results in 1.11.0\n",
    " * Greater than or equal to: \"numpy>=1.11\" - Results in 1.11.0 or higher\n",
    " \n",
    "#### Updating Existing Packages \n",
    "```conda update PACKAGENAME```\n",
    "\n",
    "* Must be done with sbatch!\n",
    "* Will kick out if dependency updates required as well\n",
    "    * Include ```--update-deps``` if needed\n",
    "    * Attempts to update the package along with its dependencies\n",
    "* Use ```-y``` to accept prompts as it runs\n",
    "\n",
    "#### Finding Available Conda Packages\n",
    "```conda search PACKAGENAME```\n",
    "\n",
    "* Google \"conda SOFTWARENAME\"\n",
    " * eg. https://anaconda.org/bioconda/shovill\n",
    "* Search on the command line:  \n",
    " * For the package: ```conda search shovill```   \n",
    " * For a version: ```conda search \"shovill>=1.0\"```  \n",
    "   * Uses the rules above\n",
    " * Display info: ```conda info shovill=1.0.4```\n",
    "\n",
    " "
   ]
  },
  {
   "cell_type": "code",
   "execution_count": 23,
   "metadata": {},
   "outputs": [
    {
     "name": "stdout",
     "output_type": "stream",
     "text": [
      "Loading channels: done\n",
      "# Name                  Version           Build  Channel             \n",
      "bbmap                     35.85               1  bioconda            \n",
      "bbmap                     35.85               2  bioconda            \n",
      "bbmap                     36.32               0  bioconda            \n",
      "bbmap                     36.84               0  bioconda            \n",
      "bbmap                     37.02               0  bioconda            \n",
      "bbmap                     37.10               0  bioconda            \n",
      "bbmap                     37.10               1  bioconda            \n",
      "bbmap                     37.17               0  bioconda            \n",
      "bbmap                     37.17               1  bioconda            \n",
      "bbmap                     37.52               0  bioconda            \n",
      "bbmap                     37.52               1  bioconda            \n",
      "bbmap                     37.62               0  bioconda            \n",
      "bbmap                     37.62               1  bioconda            \n",
      "bbmap                     37.66               0  bioconda            \n",
      "bbmap                     37.75               0  bioconda            \n",
      "bbmap                     37.77               0  bioconda            \n",
      "bbmap                     37.78               0  bioconda            \n",
      "bbmap                     37.90               0  bioconda            \n",
      "bbmap                     37.95               0  bioconda            \n",
      "bbmap                     37.96               0  bioconda            \n",
      "bbmap                     37.99               0  bioconda            \n",
      "bbmap                     37.99               1  bioconda            \n",
      "bbmap                     38.06               0  bioconda            \n",
      "bbmap                     38.06               2  bioconda            \n",
      "bbmap                     38.16               0  bioconda            \n",
      "bbmap                     38.18               0  bioconda            \n",
      "bbmap                     38.19      h470a237_0  bioconda            \n",
      "bbmap                     38.20      h470a237_0  bioconda            \n",
      "bbmap                     38.22      h470a237_0  bioconda            \n"
     ]
    }
   ],
   "source": [
    "# Exercise 14.1\n",
    "# Search for bbmap \n",
    "\n",
    "conda search bbmap"
   ]
  },
  {
   "cell_type": "code",
   "execution_count": 24,
   "metadata": {},
   "outputs": [
    {
     "name": "stdout",
     "output_type": "stream",
     "text": [
      "\n",
      "bbmap 38.22 h470a237_0\n",
      "----------------------\n",
      "file name   : bbmap-38.22-h470a237_0.tar.bz2\n",
      "name        : bbmap\n",
      "version     : 38.22\n",
      "build string: h470a237_0\n",
      "build number: 0\n",
      "channel     : https://conda.anaconda.org/bioconda/linux-64\n",
      "size        : 7.3 MB\n",
      "arch        : x86_64\n",
      "constrains  : ()\n",
      "license     : UC-LBL license (see package)\n",
      "md5         : 44ae15e33374723ec86df7d7a1748258\n",
      "platform    : linux\n",
      "subdir      : linux-64\n",
      "timestamp   : 1534837421824\n",
      "url         : https://conda.anaconda.org/bioconda/linux-64/bbmap-38.22-h470a237_0.tar.bz2\n",
      "dependencies:\n",
      "    libgcc-ng >=4.9\n",
      "    openjdk >=7.0\n"
     ]
    }
   ],
   "source": [
    "# Exercise 14.2\n",
    "# Display info for bbmap version 38.22\n",
    "\n",
    "conda info bbmap=38.22"
   ]
  },
  {
   "cell_type": "code",
   "execution_count": 25,
   "metadata": {},
   "outputs": [
    {
     "name": "stdout",
     "output_type": "stream",
     "text": [
      "Submitted batch job 2809308\n"
     ]
    }
   ],
   "source": [
    "# Exercise 14.3\n",
    "# Install bbmap version 38.22 to your testenv\n",
    "# Either by activating it or using the -n argument\n",
    "\n",
    "sbatch -p NMLResearch -c 1 --mem 1G --wrap=\"conda install -y -n testenv-azetner bbmap=38.22\""
   ]
  },
  {
   "cell_type": "code",
   "execution_count": 26,
   "metadata": {},
   "outputs": [
    {
     "name": "stdout",
     "output_type": "stream",
     "text": [
      "Solving environment: ...working... done\n",
      "\n",
      "## Package Plan ##\n",
      "\n",
      "  environment location: /home/CSCScience.ca/AZetner/.conda/envs/testenv-azetner\n",
      "\n",
      "  added / updated specs: \n",
      "    - bbmap=38.22\n",
      "\n",
      "\n",
      "The following NEW packages will be INSTALLED:\n",
      "\n",
      "    bbmap: 38.22-h470a237_0 bioconda\n",
      "\n",
      "Preparing transaction: ...working... done\n",
      "Verifying transaction: ...working... done\n",
      "Executing transaction: ...working... done\n"
     ]
    }
   ],
   "source": [
    "more slurm-2809308.out"
   ]
  },
  {
   "cell_type": "markdown",
   "metadata": {},
   "source": [
    "#### Removing packages\n",
    "\n",
    "```conda remove -y PACKAGENAME```\n",
    "\n",
    "* Run via sbatch!\n",
    "* Removes the associated dependencies as well\n"
   ]
  },
  {
   "cell_type": "code",
   "execution_count": 27,
   "metadata": {},
   "outputs": [
    {
     "name": "stdout",
     "output_type": "stream",
     "text": [
      "Submitted batch job 2809336\n"
     ]
    }
   ],
   "source": [
    "# Exercise 15\n",
    "# Activate your testenv or call it from the remove command\n",
    "# Remove bbmap\n",
    "# source activate testenv-azetner\n",
    "# sbatch -p NMLResearch -c 1 --mem 1G --wrap=\"conda remove -y bbmap\"\n",
    "\n",
    "sbatch -p NMLResearch -c 1 --mem 1G -o bbmap-removal-%j.out --wrap=\"conda remove -y -n testenv-azetner bbmap\""
   ]
  },
  {
   "cell_type": "code",
   "execution_count": 28,
   "metadata": {},
   "outputs": [
    {
     "name": "stdout",
     "output_type": "stream",
     "text": [
      "::::::::::::::\n",
      "bbmap-removal-2804669.out\n",
      "::::::::::::::\n",
      "Solving environment: ...working... done\n",
      "\n",
      "## Package Plan ##\n",
      "\n",
      "  environment location: /home/CSCScience.ca/AZetner/.conda/envs/testenv-azetner\n",
      "\n",
      "  removed specs: \n",
      "    - bbmap\n",
      "\n",
      "\n",
      "The following packages will be REMOVED:\n",
      "\n",
      "    bbmap: 38.22-h470a237_0 bioconda\n",
      "\n",
      "Preparing transaction: ...working... done\n",
      "Verifying transaction: ...working... done\n",
      "Executing transaction: ...working... done\n"
     ]
    }
   ],
   "source": [
    "more bbmap-removal-*"
   ]
  },
  {
   "cell_type": "code",
   "execution_count": 55,
   "metadata": {},
   "outputs": [
    {
     "name": "stdout",
     "output_type": "stream",
     "text": [
      "(testenv-azetner) (testenv-azetner) # packages in environment at /home/CSCScience.ca/AZetner/.conda/envs/testenv-azetner:\n",
      "#\n",
      "# Name                    Version                   Build  Channel\n",
      "(testenv-azetner) "
     ]
    },
    {
     "ename": "",
     "evalue": "1",
     "execution_count": 55,
     "output_type": "error",
     "traceback": []
    }
   ],
   "source": [
    "# Exercise 15.1\n",
    "# Activate testenv-YOURNAME\n",
    "source activate testenv-azetner\n",
    "# List packages\n",
    "conda list "
   ]
  },
  {
   "cell_type": "code",
   "execution_count": 18,
   "metadata": {},
   "outputs": [
    {
     "name": "stdout",
     "output_type": "stream",
     "text": [
      "(testenv-azetner) (testenv-azetner) Loading channels: done\n",
      "# Name                  Version           Build  Channel             \n",
      "shovill                   0.7.1      pl5.22.0_0  bioconda            \n",
      "shovill                   0.7.1      pl5.22.0_1  bioconda            \n",
      "shovill                   0.7.1      pl5.22.0_2  bioconda            \n",
      "shovill                   0.8.0      pl5.22.0_0  bioconda            \n",
      "shovill                   0.9.0               1  bioconda            \n",
      "shovill                   0.9.0      pl5.22.0_0  bioconda            \n",
      "shovill                   1.0.0               0  bioconda            \n",
      "shovill                   1.0.1               0  bioconda            \n",
      "shovill                   1.0.4               0  bioconda            \n",
      "(testenv-azetner) "
     ]
    },
    {
     "ename": "",
     "evalue": "1",
     "execution_count": 18,
     "output_type": "error",
     "traceback": []
    }
   ],
   "source": [
    "# Exercise 15.2\n",
    "# Search for versions of shovill\n",
    "conda search shovill"
   ]
  },
  {
   "cell_type": "code",
   "execution_count": 56,
   "metadata": {},
   "outputs": [
    {
     "name": "stdout",
     "output_type": "stream",
     "text": [
      "(testenv-azetner) (testenv-azetner) Submitted batch job 2815664\n",
      "(testenv-azetner) "
     ]
    },
    {
     "ename": "",
     "evalue": "1",
     "execution_count": 56,
     "output_type": "error",
     "traceback": []
    }
   ],
   "source": [
    "# Exercise 15.3\n",
    "# Install version 0.9.0 of shovill\n",
    "sbatch -p NMLResearch -c 1 --mem 1G --wrap=\"conda install shovill=0.9.0\""
   ]
  },
  {
   "cell_type": "code",
   "execution_count": 57,
   "metadata": {},
   "outputs": [
    {
     "name": "stdout",
     "output_type": "stream",
     "text": [
      "Solving environment: ...working... done\n",
      "\n",
      "## Package Plan ##\n",
      "\n",
      "  environment location: /home/CSCScience.ca/AZetner/.conda/envs/testenv-azetner\n",
      "\n",
      "  added / updated specs: \n",
      "    - shovill=0.9.0\n",
      "\n",
      "\n",
      "The following NEW packages will be INSTALLED:\n",
      "\n",
      "    bwa:             0.7.17-ha92aebf_3       bioconda   \n",
      "    bzip2:           1.0.6-h470a237_2        conda-forge\n",
      "    ca-certificates: 2018.11.29-ha4d7672_0   conda-forge\n",
      "    certifi:         2018.11.29-py37_1000    conda-forge\n",
      "    curl:            7.62.0-h74213dd_0       conda-forge\n",
      "    flash:           1.2.11-ha92aebf_2       bioconda   \n",
      "    kmc:             3.1.1rc1-h76f5088_0     bioconda   \n",
      "    krb5:            1.16.2-hbb41f41_0       conda-forge\n",
      "    libcurl:         7.62.0-hbdb9355_0       conda-forge\n",
      "    libdeflate:      1.0-h470a237_0          bioconda   \n",
      "    libedit:         3.1.20170329-haf1bffa_1 conda-forge\n",
      "(testenv-azetner) "
     ]
    }
   ],
   "source": [
    "more slurm-2815664.out"
   ]
  },
  {
   "cell_type": "code",
   "execution_count": 58,
   "metadata": {},
   "outputs": [
    {
     "name": "stdout",
     "output_type": "stream",
     "text": [
      "2018-12-03 23:11:41  (rev 0)\n",
      "\n",
      "2018-12-03 23:17:56  (rev 1)\n",
      "    +bwa-0.7.17 (bioconda)\n",
      "    +bzip2-1.0.6 (conda-forge)\n",
      "    +ca-certificates-2018.11.29 (conda-forge)\n",
      "    +certifi-2018.11.29 (conda-forge)\n",
      "    +curl-7.62.0 (conda-forge)\n",
      "    +flash-1.2.11 (bioconda)\n",
      "    +kmc-3.1.1rc1 (bioconda)\n",
      "    +krb5-1.16.2 (conda-forge)\n",
      "    +libcurl-7.62.0 (conda-forge)\n",
      "    +libdeflate-1.0 (bioconda)\n",
      "    +libedit-3.1.20170329 (conda-forge)\n",
      "    +libffi-3.2.1 (conda-forge)\n",
      "    +libgcc-ng-7.2.0 (conda-forge)\n",
      "    +libssh2-1.8.0 (conda-forge)\n",
      "    +libstdcxx-ng-7.2.0 (conda-forge)\n",
      "    +lighter-1.1.2 (bioconda)\n",
      "    +ncurses-6.1 (conda-forge)\n",
      "    +openjdk-11.0.1 (conda-forge)\n",
      "    +openssl-1.0.2p (conda-forge)\n",
      "    +perl-5.26.2 (conda-forge)\n",
      "    +perl-file-spec-3.48_01 (bioconda)\n",
      "    +perl-findbin-1.51 (bioconda)\n",
      "    +perl-time-piece-1.27 (bioconda)\n",
      "    +pigz-2.3.4 (conda-forge)\n",
      "    +pilon-1.23 (bioconda)\n",
      "    +pip-18.1 (conda-forge)\n",
      "    +python-3.7.1 (conda-forge)\n",
      "    +readline-7.0 (conda-forge)\n",
      "    +samtools-1.9 (bioconda)\n",
      "    +seqtk-1.3 (bioconda)\n",
      "    +setuptools-40.6.2 (conda-forge)\n",
      "    +shovill-0.9.0 (bioconda)\n",
      "    +spades-3.13.0 (bioconda)\n",
      "    +sqlite-3.26.0 (conda-forge)\n",
      "    +tk-8.6.9 (conda-forge)\n",
      "    +trimmomatic-0.38 (bioconda)\n",
      "    +unzip-6.0 (conda-forge)\n",
      "    +wheel-0.32.3 (conda-forge)\n",
      "    +xz-5.2.4 (conda-forge)\n",
      "    +zlib-1.2.11 (conda-forge)\n",
      "\n",
      "(testenv-azetner) "
     ]
    },
    {
     "ename": "",
     "evalue": "1",
     "execution_count": 58,
     "output_type": "error",
     "traceback": []
    }
   ],
   "source": [
    "conda list --revisions\n"
   ]
  },
  {
   "cell_type": "code",
   "execution_count": 61,
   "metadata": {},
   "outputs": [
    {
     "name": "stdout",
     "output_type": "stream",
     "text": [
      "(testenv-azetner) (testenv-azetner) Submitted batch job 2815804\n",
      "(testenv-azetner) "
     ]
    },
    {
     "ename": "",
     "evalue": "1",
     "execution_count": 61,
     "output_type": "error",
     "traceback": []
    }
   ],
   "source": [
    "# Exercise 15.4\n",
    "# Update shovill to latest version\n",
    "# If you get this message you forgot something important: # All requested packages already installed.\n",
    "sbatch -p NMLResearch -c 1 --mem 1G -o shovill-update-%j.out --wrap=\"conda update -y --update-deps shovill\""
   ]
  },
  {
   "cell_type": "code",
   "execution_count": 62,
   "metadata": {},
   "outputs": [
    {
     "name": "stdout",
     "output_type": "stream",
     "text": [
      "Solving environment: ...working... done\n",
      "boost-1.67.0         | 316 KB    | ########## | 100% \n",
      "boost-cpp-1.67.0     | 19.7 MB   | 6          | \n",
      "boost-cpp-1.67.0     | 19.7 MB   | ########5\n",
      "boost-cpp-1.67.0     | 19.7 MB   | #####\n",
      "boost-cpp-1.67.0     | 19.7 MB   | #\n",
      "boost-cpp-1.67.0     | 19.7 MB  \n",
      "boost-cpp-1.67.0     | 19.7 \n",
      "boost-cpp-1.67.0     | 1\n",
      "boost-cpp-1.67.0    \n",
      "boost-cpp-1.67.0\n",
      "boost-cpp-1.\n",
      "boost-cp\n",
      "boos\n",
      "boost-cpp-1.67.0     | 19.7 MB   | #########7 |  97% \n",
      "boost-cpp-1.67.0     | 19.7 MB   | ########## | 10\n",
      "% \n",
      "## Package Plan ##\n",
      "\n",
      "  environment location: /home/CSCScience.ca/AZetner/.conda/envs/testenv-azetner\n",
      "\n",
      "  added / updated specs: \n",
      "    - shovill\n",
      "(testenv-azetner) "
     ]
    }
   ],
   "source": [
    "more shovill-update*"
   ]
  },
  {
   "cell_type": "code",
   "execution_count": 63,
   "metadata": {},
   "outputs": [
    {
     "name": "stdout",
     "output_type": "stream",
     "text": [
      "(testenv-azetner) (testenv-azetner) 2018-12-03 23:11:41  (rev 0)\n",
      "\n",
      "2018-12-03 23:17:56  (rev 1)\n",
      "    +bwa-0.7.17 (bioconda)\n",
      "    +bzip2-1.0.6 (conda-forge)\n",
      "    +ca-certificates-2018.11.29 (conda-forge)\n",
      "    +certifi-2018.11.29 (conda-forge)\n",
      "    +curl-7.62.0 (conda-forge)\n",
      "    +flash-1.2.11 (bioconda)\n",
      "    +kmc-3.1.1rc1 (bioconda)\n",
      "    +krb5-1.16.2 (conda-forge)\n",
      "    +libcurl-7.62.0 (conda-forge)\n",
      "    +libdeflate-1.0 (bioconda)\n",
      "    +libedit-3.1.20170329 (conda-forge)\n",
      "    +libffi-3.2.1 (conda-forge)\n",
      "    +libgcc-ng-7.2.0 (conda-forge)\n",
      "    +libssh2-1.8.0 (conda-forge)\n",
      "    +libstdcxx-ng-7.2.0 (conda-forge)\n",
      "    +lighter-1.1.2 (bioconda)\n",
      "    +ncurses-6.1 (conda-forge)\n",
      "    +openjdk-11.0.1 (conda-forge)\n",
      "    +openssl-1.0.2p (conda-forge)\n",
      "    +perl-5.26.2 (conda-forge)\n",
      "    +perl-file-spec-3.48_01 (bioconda)\n",
      "    +perl-findbin-1.51 (bioconda)\n",
      "    +perl-time-piece-1.27 (bioconda)\n",
      "    +pigz-2.3.4 (conda-forge)\n",
      "    +pilon-1.23 (bioconda)\n",
      "    +pip-18.1 (conda-forge)\n",
      "    +python-3.7.1 (conda-forge)\n",
      "    +readline-7.0 (conda-forge)\n",
      "    +samtools-1.9 (bioconda)\n",
      "    +seqtk-1.3 (bioconda)\n",
      "    +setuptools-40.6.2 (conda-forge)\n",
      "    +shovill-0.9.0 (bioconda)\n",
      "    +spades-3.13.0 (bioconda)\n",
      "    +sqlite-3.26.0 (conda-forge)\n",
      "    +tk-8.6.9 (conda-forge)\n",
      "    +trimmomatic-0.38 (bioconda)\n",
      "    +unzip-6.0 (conda-forge)\n",
      "    +wheel-0.32.3 (conda-forge)\n",
      "    +xz-5.2.4 (conda-forge)\n",
      "    +zlib-1.2.11 (conda-forge)\n",
      "\n",
      "2018-12-03 23:39:58  (rev 2)\n",
      "     certifi  {2018.11.29 (conda-forge) -> 2018.11.29 (conda-forge)}\n",
      "     pip  {18.1 (conda-forge) -> 18.1 (conda-forge)}\n",
      "     python  {3.7.1 (conda-forge) -> 3.6.7 (conda-forge)}\n",
      "     setuptools  {40.6.2 (conda-forge) -> 40.6.2 (conda-forge)}\n",
      "     shovill  {0.9.0 (bioconda) -> 1.0.4 (bioconda)}\n",
      "     wheel  {0.32.3 (conda-forge) -> 0.32.3 (conda-forge)}\n",
      "    +blas-1.1 (conda-forge)\n",
      "    +boost-1.67.0 (conda-forge)\n",
      "    +boost-cpp-1.67.0 (conda-forge)\n",
      "    +capnproto-0.6.1 (conda-forge)\n",
      "    +gsl-2.2.1 (conda-forge)\n",
      "    +icu-58.2 (conda-forge)\n",
      "    +libgcc-7.2.0 (conda-forge)\n",
      "    +libgfortran-3.0.0 (conda-forge)\n",
      "    +mash-2.1 (bioconda)\n",
      "    +megahit-1.1.3 (bioconda)\n",
      "    +numpy-1.15.1 (conda-forge)\n",
      "    +openblas-0.2.20 (conda-forge)\n",
      "    +samclip-0.2 (bioconda)\n",
      "    +skesa-2.3.0 (bioconda)\n",
      "    +velvet-1.2.10 (bioconda)\n",
      "\n",
      "(testenv-azetner) "
     ]
    },
    {
     "ename": "",
     "evalue": "1",
     "execution_count": 63,
     "output_type": "error",
     "traceback": []
    }
   ],
   "source": [
    "# Exercise 15.5\n",
    "# Look at environment revisions\n",
    "conda list --revisions"
   ]
  },
  {
   "cell_type": "code",
   "execution_count": 64,
   "metadata": {},
   "outputs": [
    {
     "name": "stdout",
     "output_type": "stream",
     "text": [
      "(testenv-azetner) (testenv-azetner) (testenv-azetner) (testenv-azetner) Submitted batch job 2815859\n",
      "(testenv-azetner) "
     ]
    },
    {
     "ename": "",
     "evalue": "1",
     "execution_count": 64,
     "output_type": "error",
     "traceback": []
    }
   ],
   "source": [
    "# Exercise 15.6\n",
    "# Install back to first revision\n",
    "# What version of shovill is installed?\n",
    "\n",
    "sbatch -p NMLResearch -c 1 --mem 1G -o back-a-revision-%j.out --wrap=\"conda install -y --revision 1; conda list\""
   ]
  },
  {
   "cell_type": "code",
   "execution_count": 65,
   "metadata": {},
   "outputs": [
    {
     "name": "stdout",
     "output_type": "stream",
     "text": [
      "\n",
      "## Package Plan ##\n",
      "\n",
      "  environment location: /home/CSCScience.ca/AZetner/.conda/envs/testenv-azetner\n",
      "\n",
      "  added / updated specs: \n",
      "    - shovill\n",
      "\n",
      "\n",
      "The following packages will be REMOVED:\n",
      "\n",
      "    blas:        1.1-openblas                        conda-forge\n",
      "    boost:       1.67.0-py36h3e44d54_0               conda-forge\n",
      "    boost-cpp:   1.67.0-h3a22d5f_0                   conda-forge\n",
      "    capnproto:   0.6.1-hfc679d8_1                    conda-forge\n",
      "    gsl:         2.2.1-blas_openblas_4               conda-forge\n",
      "    icu:         58.2-hfc679d8_0                     conda-forge\n",
      "    libgcc:      7.2.0-h69d50b8_2                    conda-forge\n",
      "    libgfortran: 3.0.0-1                             conda-forge\n",
      "    mash:        2.1-h9dd4a16_0                      bioconda   \n",
      "    megahit:     1.1.3-py36_0                        bioconda   \n",
      "    numpy:       1.15.1-py36_blas_openblashd3ea46f_0 conda-forge\n",
      "    openblas:    0.2.20-8                            conda-forge\n",
      "(testenv-azetner) "
     ]
    }
   ],
   "source": [
    "more back-a-rev*"
   ]
  },
  {
   "cell_type": "code",
   "execution_count": 66,
   "metadata": {},
   "outputs": [
    {
     "name": "stdout",
     "output_type": "stream",
     "text": [
      "# packages in environment at /home/CSCScience.ca/AZetner/.conda/envs/testenv-azetner:\n",
      "#\n",
      "# Name                    Version                   Build  Channel\n",
      "bwa                       0.7.17               ha92aebf_3    bioconda\n",
      "bzip2                     1.0.6                h470a237_2    conda-forge\n",
      "ca-certificates           2018.11.29           ha4d7672_0    conda-forge\n",
      "certifi                   2018.11.29            py37_1000    conda-forge\n",
      "curl                      7.62.0               h74213dd_0    conda-forge\n",
      "flash                     1.2.11               ha92aebf_2    bioconda\n",
      "kmc                       3.1.1rc1             h76f5088_0    bioconda\n",
      "krb5                      1.16.2               hbb41f41_0    conda-forge\n",
      "libcurl                   7.62.0               hbdb9355_0    conda-forge\n",
      "libdeflate                1.0                  h470a237_0    bioconda\n",
      "libedit                   3.1.20170329         haf1bffa_1    conda-forge\n",
      "libffi                    3.2.1                hfc679d8_5    conda-forge\n",
      "libgcc-ng                 7.2.0                hdf63c60_3    conda-forge\n",
      "libssh2                   1.8.0                h5b517e9_3    conda-forge\n",
      "libstdcxx-ng              7.2.0                hdf63c60_3    conda-forge\n",
      "lighter                   1.1.2                he941832_0    bioconda\n",
      "ncurses                   6.1                  hfc679d8_1    conda-forge\n",
      "openjdk                   11.0.1               h470a237_2    conda-forge\n",
      "openssl                   1.0.2p               h470a237_1    conda-forge\n",
      "perl                      5.26.2               h470a237_0    conda-forge\n",
      "perl-file-spec            3.48_01                 pl526_1    bioconda\n",
      "perl-findbin              1.51                    pl526_1    bioconda\n",
      "perl-time-piece           1.27                    pl526_1    bioconda\n",
      "pigz                      2.3.4                         0    conda-forge\n",
      "pilon                     1.23                          0    bioconda\n",
      "pip                       18.1                  py37_1000    conda-forge\n",
      "python                    3.7.1                h5001a0f_0    conda-forge\n",
      "readline                  7.0                  haf1bffa_1    conda-forge\n",
      "samtools                  1.9                  h8ee4bcc_1    bioconda\n",
      "seqtk                     1.3                  ha92aebf_0    bioconda\n",
      "setuptools                40.6.2                   py37_0    conda-forge\n",
      "shovill                   0.9.0                         1    bioconda\n",
      "spades                    3.13.0                        0    bioconda\n",
      "sqlite                    3.26.0               hb1c47c0_0    conda-forge\n",
      "tk                        8.6.9                ha92aebf_0    conda-forge\n",
      "trimmomatic               0.38                          1    bioconda\n",
      "unzip                     6.0                           0    conda-forge\n",
      "wheel                     0.32.3                   py37_0    conda-forge\n",
      "xz                        5.2.4                h470a237_1    conda-forge\n",
      "zlib                      1.2.11               h470a237_3    conda-forge\n",
      "(testenv-azetner) "
     ]
    },
    {
     "ename": "",
     "evalue": "1",
     "execution_count": 66,
     "output_type": "error",
     "traceback": []
    }
   ],
   "source": [
    "conda list"
   ]
  },
  {
   "cell_type": "code",
   "execution_count": 67,
   "metadata": {},
   "outputs": [
    {
     "name": "stdout",
     "output_type": "stream",
     "text": [
      "2018-12-03 23:11:41  (rev 0)\n",
      "\n",
      "2018-12-03 23:17:56  (rev 1)\n",
      "    +bwa-0.7.17 (bioconda)\n",
      "    +bzip2-1.0.6 (conda-forge)\n",
      "    +ca-certificates-2018.11.29 (conda-forge)\n",
      "    +certifi-2018.11.29 (conda-forge)\n",
      "    +curl-7.62.0 (conda-forge)\n",
      "    +flash-1.2.11 (bioconda)\n",
      "    +kmc-3.1.1rc1 (bioconda)\n",
      "    +krb5-1.16.2 (conda-forge)\n",
      "    +libcurl-7.62.0 (conda-forge)\n",
      "    +libdeflate-1.0 (bioconda)\n",
      "    +libedit-3.1.20170329 (conda-forge)\n",
      "    +libffi-3.2.1 (conda-forge)\n",
      "    +libgcc-ng-7.2.0 (conda-forge)\n",
      "    +libssh2-1.8.0 (conda-forge)\n",
      "    +libstdcxx-ng-7.2.0 (conda-forge)\n",
      "    +lighter-1.1.2 (bioconda)\n",
      "    +ncurses-6.1 (conda-forge)\n",
      "    +openjdk-11.0.1 (conda-forge)\n",
      "    +openssl-1.0.2p (conda-forge)\n",
      "    +perl-5.26.2 (conda-forge)\n",
      "    +perl-file-spec-3.48_01 (bioconda)\n",
      "    +perl-findbin-1.51 (bioconda)\n",
      "    +perl-time-piece-1.27 (bioconda)\n",
      "    +pigz-2.3.4 (conda-forge)\n",
      "    +pilon-1.23 (bioconda)\n",
      "    +pip-18.1 (conda-forge)\n",
      "    +python-3.7.1 (conda-forge)\n",
      "    +readline-7.0 (conda-forge)\n",
      "    +samtools-1.9 (bioconda)\n",
      "    +seqtk-1.3 (bioconda)\n",
      "    +setuptools-40.6.2 (conda-forge)\n",
      "    +shovill-0.9.0 (bioconda)\n",
      "    +spades-3.13.0 (bioconda)\n",
      "    +sqlite-3.26.0 (conda-forge)\n",
      "    +tk-8.6.9 (conda-forge)\n",
      "    +trimmomatic-0.38 (bioconda)\n",
      "    +unzip-6.0 (conda-forge)\n",
      "    +wheel-0.32.3 (conda-forge)\n",
      "    +xz-5.2.4 (conda-forge)\n",
      "    +zlib-1.2.11 (conda-forge)\n",
      "\n",
      "2018-12-03 23:39:58  (rev 2)\n",
      "     certifi  {2018.11.29 (conda-forge) -> 2018.11.29 (conda-forge)}\n",
      "     pip  {18.1 (conda-forge) -> 18.1 (conda-forge)}\n",
      "     python  {3.7.1 (conda-forge) -> 3.6.7 (conda-forge)}\n",
      "     setuptools  {40.6.2 (conda-forge) -> 40.6.2 (conda-forge)}\n",
      "     shovill  {0.9.0 (bioconda) -> 1.0.4 (bioconda)}\n",
      "     wheel  {0.32.3 (conda-forge) -> 0.32.3 (conda-forge)}\n",
      "    +blas-1.1 (conda-forge)\n",
      "    +boost-1.67.0 (conda-forge)\n",
      "    +boost-cpp-1.67.0 (conda-forge)\n",
      "    +capnproto-0.6.1 (conda-forge)\n",
      "    +gsl-2.2.1 (conda-forge)\n",
      "    +icu-58.2 (conda-forge)\n",
      "    +libgcc-7.2.0 (conda-forge)\n",
      "    +libgfortran-3.0.0 (conda-forge)\n",
      "    +mash-2.1 (bioconda)\n",
      "    +megahit-1.1.3 (bioconda)\n",
      "    +numpy-1.15.1 (conda-forge)\n",
      "    +openblas-0.2.20 (conda-forge)\n",
      "    +samclip-0.2 (bioconda)\n",
      "    +skesa-2.3.0 (bioconda)\n",
      "    +velvet-1.2.10 (bioconda)\n",
      "\n",
      "2018-12-03 23:49:25  (rev 3)\n",
      "     certifi  {2018.11.29 (conda-forge) -> 2018.11.29 (conda-forge)}\n",
      "     pip  {18.1 (conda-forge) -> 18.1 (conda-forge)}\n",
      "     python  {3.6.7 (conda-forge) -> 3.7.1 (conda-forge)}\n",
      "     setuptools  {40.6.2 (conda-forge) -> 40.6.2 (conda-forge)}\n",
      "     shovill  {1.0.4 (bioconda) -> 0.9.0 (bioconda)}\n",
      "     wheel  {0.32.3 (conda-forge) -> 0.32.3 (conda-forge)}\n",
      "    -blas-1.1 (conda-forge)\n",
      "    -boost-1.67.0 (conda-forge)\n",
      "    -boost-cpp-1.67.0 (conda-forge)\n",
      "    -capnproto-0.6.1 (conda-forge)\n",
      "    -gsl-2.2.1 (conda-forge)\n",
      "    -icu-58.2 (conda-forge)\n",
      "    -libgcc-7.2.0 (conda-forge)\n",
      "    -libgfortran-3.0.0 (conda-forge)\n",
      "    -mash-2.1 (bioconda)\n",
      "    -megahit-1.1.3 (bioconda)\n",
      "    -numpy-1.15.1 (conda-forge)\n",
      "    -openblas-0.2.20 (conda-forge)\n",
      "    -samclip-0.2 (bioconda)\n",
      "    -skesa-2.3.0 (bioconda)\n",
      "    -velvet-1.2.10 (bioconda)\n",
      "\n",
      "(testenv-azetner) "
     ]
    },
    {
     "ename": "",
     "evalue": "1",
     "execution_count": 67,
     "output_type": "error",
     "traceback": []
    }
   ],
   "source": [
    "conda list --revisions"
   ]
  },
  {
   "cell_type": "markdown",
   "metadata": {},
   "source": [
    "## V. Appendix\n",
    "\n",
    "### Useful *sbatch* command\n",
    "sbatch -p NMLResearch -c 1 --mem=1G --wrap=\"\"\n",
    "\n",
    "### Useful *sacct* command\n",
    "sacct -j  --format=\"JobID,JobName,Partition,ReqCPUs,ReqMem,AllocCPUs,MaxRSS\"\n"
   ]
  },
  {
   "cell_type": "markdown",
   "metadata": {},
   "source": [
    "## VI. Screen\n",
    "Will give a presentation on screen at next BWG. Until then if you're interested check this out:\n",
    "https://nathan.chantrell.net/linux/an-introduction-to-screen/\n"
   ]
  }
 ],
 "metadata": {
  "kernelspec": {
   "display_name": "Bash",
   "language": "bash",
   "name": "bash"
  },
  "language_info": {
   "codemirror_mode": "shell",
   "file_extension": ".sh",
   "mimetype": "text/x-sh",
   "name": "bash"
  }
 },
 "nbformat": 4,
 "nbformat_minor": 2
}

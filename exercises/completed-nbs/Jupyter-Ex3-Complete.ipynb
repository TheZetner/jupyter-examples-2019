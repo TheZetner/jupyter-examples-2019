{
 "cells": [
  {
   "cell_type": "markdown",
   "metadata": {},
   "source": [
    "# Jupyter and Markdown Exercises (H1)\n",
    "\n",
    "## Vocabulary to know (H2)\n",
    "* **Cells**\n",
    " * Two kinds of containers for text\n",
    " * *Markdown*\n",
    "    * Fancy formatted text\n",
    "    * Running markdown cells formats the text according to the tags within\n",
    " * *Code*  \n",
    "     * Fancy runnable code\n",
    "     * Running code cells sends the commands within to the kernel \n",
    "     * Results are shown by default below the code cell\n",
    "     * Number in brackets indicates the order the cell was executed on the kernel\n",
    "* **Kernel**\n",
    " * The calculation engine that runs code\n",
    " * Make sure yours says *Bash* in the upper right\n",
    " * Code cells that are run are termed \"inputs\" to the kernel (In[*])\n",
    "* **Modes**\n",
    "    * *Command* - navigate between cells, modify them, run them\n",
    "    * *Edit* - edit text within the code and markdown cells  "
   ]
  },
  {
   "cell_type": "markdown",
   "metadata": {},
   "source": [
    "## Keyboard Shortcuts - (C)ommand and/or (E)dit (H2)\n",
    "* **Up and Down arrows** - navigate between cells (C)  \n",
    "* **Enter** - Enter Edit mode in selected cell - double click a cell to do this as well (C)  \n",
    "* **Ctrl + Enter** - Run Cell (C/E)  \n",
    "* **Shift + Enter** - Run Cell and select next, inserts if last cell in notebook (C/E)  \n",
    "* **Esc** - Escape and return to Command mode (E)  \n",
    "* **A/B** - add cell above / below current (C)  \n",
    "* **DD** - delete current (C)  \n",
    "* **C** - copy current (C)  \n",
    "* **X** - cut current (C) \n",
    "* **Y** - change cell to code (C) \n",
    "* **M** - change cell to markdown (C) \n",
    "* **Ctrl+Shift+-** - Divide cell at cursor position (E) \n",
    "* **L** - show/hide line numbers in code cells (E)  \n",
    "* **Shift+Arrows** - Select multiple cells (C) \n",
    "* **Shift+M** - Merge selected cells: Inherits top cell’s type (C)"
   ]
  },
  {
   "cell_type": "markdown",
   "metadata": {},
   "source": [
    "![jupyterlogo](https://upload.wikimedia.org/wikipedia/commons/thumb/3/38/Jupyter_logo.svg/414px-Jupyter_logo.svg.png)\n",
    "\n",
    "\n",
    "[Link to Project Jupyter](https://jupyter.org/) "
   ]
  }
 ],
 "metadata": {
  "_draft": {
   "nbviewer_url": "https://gist.github.com/27ecaa4e17d0327097c07d84245d1acd"
  },
  "gist": {
   "data": {
    "description": "Jupyter Exercise 3 Complete",
    "public": true
   },
   "id": "27ecaa4e17d0327097c07d84245d1acd"
  },
  "kernelspec": {
   "display_name": "R",
   "language": "R",
   "name": "ir"
  },
  "language_info": {
   "codemirror_mode": "r",
   "file_extension": ".r",
   "mimetype": "text/x-r-source",
   "name": "R",
   "pygments_lexer": "r",
   "version": "3.6.0"
  }
 },
 "nbformat": 4,
 "nbformat_minor": 2
}
